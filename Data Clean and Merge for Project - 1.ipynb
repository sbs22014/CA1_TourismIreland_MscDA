{
 "cells": [
  {
   "cell_type": "markdown",
   "id": "1d1a7a1d",
   "metadata": {},
   "source": [
    "### Import Libraries "
   ]
  },
  {
   "cell_type": "code",
   "execution_count": 1,
   "id": "981182c1",
   "metadata": {},
   "outputs": [],
   "source": [
    "# Importing libraries\n",
    "import pandas as pd\n",
    "import numpy as np\n",
    "import pandas as pd\n",
    "import seaborn as sns\n",
    "\n",
    "import warnings \n",
    "warnings.filterwarnings(\"ignore\")\n"
   ]
  },
  {
   "cell_type": "markdown",
   "id": "db0bc37f",
   "metadata": {},
   "source": [
    "### Import first Dataset for project\n",
    "#### Household_Income2021"
   ]
  },
  {
   "cell_type": "code",
   "execution_count": null,
   "id": "795909fd",
   "metadata": {},
   "outputs": [],
   "source": [
    "# Read csv file into a pandas dataframe\n",
    "df1 = pd.read_csv(\"Household_Income2021.csv\")"
   ]
  },
  {
   "cell_type": "code",
   "execution_count": 2,
   "id": "e9ed3f93",
   "metadata": {},
   "outputs": [
    {
     "data": {
      "text/html": [
       "<div>\n",
       "<style scoped>\n",
       "    .dataframe tbody tr th:only-of-type {\n",
       "        vertical-align: middle;\n",
       "    }\n",
       "\n",
       "    .dataframe tbody tr th {\n",
       "        vertical-align: top;\n",
       "    }\n",
       "\n",
       "    .dataframe thead th {\n",
       "        text-align: right;\n",
       "    }\n",
       "</style>\n",
       "<table border=\"1\" class=\"dataframe\">\n",
       "  <thead>\n",
       "    <tr style=\"text-align: right;\">\n",
       "      <th></th>\n",
       "      <th>Statistic Label</th>\n",
       "      <th>Year</th>\n",
       "      <th>County</th>\n",
       "      <th>UNIT</th>\n",
       "      <th>VALUE</th>\n",
       "    </tr>\n",
       "  </thead>\n",
       "  <tbody>\n",
       "    <tr>\n",
       "      <th>0</th>\n",
       "      <td>Compensation of Employees (i.e. Wages and Sala...</td>\n",
       "      <td>2021</td>\n",
       "      <td>Ireland</td>\n",
       "      <td>Euro Million</td>\n",
       "      <td>110894.16</td>\n",
       "    </tr>\n",
       "    <tr>\n",
       "      <th>1</th>\n",
       "      <td>Compensation of Employees (i.e. Wages and Sala...</td>\n",
       "      <td>2021</td>\n",
       "      <td>Co. Carlow</td>\n",
       "      <td>Euro Million</td>\n",
       "      <td>1169.88</td>\n",
       "    </tr>\n",
       "    <tr>\n",
       "      <th>2</th>\n",
       "      <td>Compensation of Employees (i.e. Wages and Sala...</td>\n",
       "      <td>2021</td>\n",
       "      <td>Co. Cavan</td>\n",
       "      <td>Euro Million</td>\n",
       "      <td>1338.61</td>\n",
       "    </tr>\n",
       "    <tr>\n",
       "      <th>3</th>\n",
       "      <td>Compensation of Employees (i.e. Wages and Sala...</td>\n",
       "      <td>2021</td>\n",
       "      <td>Co. Clare</td>\n",
       "      <td>Euro Million</td>\n",
       "      <td>2386.89</td>\n",
       "    </tr>\n",
       "    <tr>\n",
       "      <th>4</th>\n",
       "      <td>Compensation of Employees (i.e. Wages and Sala...</td>\n",
       "      <td>2021</td>\n",
       "      <td>Co. Cork</td>\n",
       "      <td>Euro Million</td>\n",
       "      <td>12864.31</td>\n",
       "    </tr>\n",
       "  </tbody>\n",
       "</table>\n",
       "</div>"
      ],
      "text/plain": [
       "                                     Statistic Label  Year      County  \\\n",
       "0  Compensation of Employees (i.e. Wages and Sala...  2021     Ireland   \n",
       "1  Compensation of Employees (i.e. Wages and Sala...  2021  Co. Carlow   \n",
       "2  Compensation of Employees (i.e. Wages and Sala...  2021   Co. Cavan   \n",
       "3  Compensation of Employees (i.e. Wages and Sala...  2021   Co. Clare   \n",
       "4  Compensation of Employees (i.e. Wages and Sala...  2021    Co. Cork   \n",
       "\n",
       "           UNIT      VALUE  \n",
       "0  Euro Million  110894.16  \n",
       "1  Euro Million    1169.88  \n",
       "2  Euro Million    1338.61  \n",
       "3  Euro Million    2386.89  \n",
       "4  Euro Million   12864.31  "
      ]
     },
     "execution_count": 2,
     "metadata": {},
     "output_type": "execute_result"
    }
   ],
   "source": [
    "df1.head()"
   ]
  },
  {
   "cell_type": "code",
   "execution_count": 3,
   "id": "ed712cbd",
   "metadata": {},
   "outputs": [
    {
     "name": "stdout",
     "output_type": "stream",
     "text": [
      "<class 'pandas.core.frame.DataFrame'>\n",
      "RangeIndex: 486 entries, 0 to 485\n",
      "Data columns (total 5 columns):\n",
      " #   Column           Non-Null Count  Dtype  \n",
      "---  ------           --------------  -----  \n",
      " 0   Statistic Label  486 non-null    object \n",
      " 1   Year             486 non-null    int64  \n",
      " 2   County           486 non-null    object \n",
      " 3   UNIT             486 non-null    object \n",
      " 4   VALUE            486 non-null    float64\n",
      "dtypes: float64(1), int64(1), object(3)\n",
      "memory usage: 19.1+ KB\n"
     ]
    }
   ],
   "source": [
    "df1.info()"
   ]
  },
  {
   "cell_type": "code",
   "execution_count": 4,
   "id": "f596cfc8",
   "metadata": {},
   "outputs": [
    {
     "name": "stdout",
     "output_type": "stream",
     "text": [
      "[\"Compensation of Employees (i.e. Wages and Salaries, Benefits in kind, Employers' social insurance contribution)\"\n",
      " 'Income of Self Employed'\n",
      " 'Rent of dwellings (including imputed rent of owner-occupied dwellings)'\n",
      " 'Net Interest and Dividends (payments by households of interest are deducted from interest received by households)'\n",
      " 'Primary Income' 'Social Benefits and Other Current Transfers'\n",
      " 'Total Household Income' 'Total Income per Person'\n",
      " 'Index of Total Income per Person' 'Current Taxes on Income'\n",
      " 'Disposable Household Income' 'Disposable Income per Person'\n",
      " 'Index of Disposable Income per Person'\n",
      " 'Disposable Income per Person (excluding Rent)'\n",
      " 'Index of Disposable Income per Person (excluding Rent)'\n",
      " 'Social Benefits and Other Current Transfers per Person'\n",
      " 'Persons at Work' 'Percentage of Persons at Work']\n"
     ]
    }
   ],
   "source": [
    "unique_values = df1['Statistic Label'].unique()\n",
    "\n",
    "# Print the unique values\n",
    "print(unique_values)"
   ]
  },
  {
   "cell_type": "code",
   "execution_count": 5,
   "id": "33238f36",
   "metadata": {},
   "outputs": [
    {
     "data": {
      "text/plain": [
       "(486, 5)"
      ]
     },
     "execution_count": 5,
     "metadata": {},
     "output_type": "execute_result"
    }
   ],
   "source": [
    "# Basic EDA \n",
    "\n",
    "df1.shape"
   ]
  },
  {
   "cell_type": "code",
   "execution_count": 6,
   "id": "46c00e67",
   "metadata": {},
   "outputs": [
    {
     "name": "stdout",
     "output_type": "stream",
     "text": [
      "<class 'pandas.core.frame.DataFrame'>\n",
      "RangeIndex: 486 entries, 0 to 485\n",
      "Data columns (total 5 columns):\n",
      " #   Column           Non-Null Count  Dtype  \n",
      "---  ------           --------------  -----  \n",
      " 0   Statistic Label  486 non-null    object \n",
      " 1   Year             486 non-null    int64  \n",
      " 2   County           486 non-null    object \n",
      " 3   UNIT             486 non-null    object \n",
      " 4   VALUE            486 non-null    float64\n",
      "dtypes: float64(1), int64(1), object(3)\n",
      "memory usage: 19.1+ KB\n"
     ]
    }
   ],
   "source": [
    "df1.info()\n"
   ]
  },
  {
   "cell_type": "code",
   "execution_count": 7,
   "id": "2cf4dfda",
   "metadata": {},
   "outputs": [
    {
     "data": {
      "text/html": [
       "<div>\n",
       "<style scoped>\n",
       "    .dataframe tbody tr th:only-of-type {\n",
       "        vertical-align: middle;\n",
       "    }\n",
       "\n",
       "    .dataframe tbody tr th {\n",
       "        vertical-align: top;\n",
       "    }\n",
       "\n",
       "    .dataframe thead th {\n",
       "        text-align: right;\n",
       "    }\n",
       "</style>\n",
       "<table border=\"1\" class=\"dataframe\">\n",
       "  <thead>\n",
       "    <tr style=\"text-align: right;\">\n",
       "      <th></th>\n",
       "      <th>Year</th>\n",
       "      <th>VALUE</th>\n",
       "    </tr>\n",
       "  </thead>\n",
       "  <tbody>\n",
       "    <tr>\n",
       "      <th>count</th>\n",
       "      <td>486.0</td>\n",
       "      <td>486.000000</td>\n",
       "    </tr>\n",
       "    <tr>\n",
       "      <th>mean</th>\n",
       "      <td>2021.0</td>\n",
       "      <td>7363.131667</td>\n",
       "    </tr>\n",
       "    <tr>\n",
       "      <th>std</th>\n",
       "      <td>0.0</td>\n",
       "      <td>16075.126284</td>\n",
       "    </tr>\n",
       "    <tr>\n",
       "      <th>min</th>\n",
       "      <td>2021.0</td>\n",
       "      <td>0.550000</td>\n",
       "    </tr>\n",
       "    <tr>\n",
       "      <th>25%</th>\n",
       "      <td>2021.0</td>\n",
       "      <td>99.700000</td>\n",
       "    </tr>\n",
       "    <tr>\n",
       "      <th>50%</th>\n",
       "      <td>2021.0</td>\n",
       "      <td>962.120000</td>\n",
       "    </tr>\n",
       "    <tr>\n",
       "      <th>75%</th>\n",
       "      <td>2021.0</td>\n",
       "      <td>7043.987500</td>\n",
       "    </tr>\n",
       "    <tr>\n",
       "      <th>max</th>\n",
       "      <td>2021.0</td>\n",
       "      <td>180057.810000</td>\n",
       "    </tr>\n",
       "  </tbody>\n",
       "</table>\n",
       "</div>"
      ],
      "text/plain": [
       "         Year          VALUE\n",
       "count   486.0     486.000000\n",
       "mean   2021.0    7363.131667\n",
       "std       0.0   16075.126284\n",
       "min    2021.0       0.550000\n",
       "25%    2021.0      99.700000\n",
       "50%    2021.0     962.120000\n",
       "75%    2021.0    7043.987500\n",
       "max    2021.0  180057.810000"
      ]
     },
     "execution_count": 7,
     "metadata": {},
     "output_type": "execute_result"
    }
   ],
   "source": [
    "df1.describe()\n"
   ]
  },
  {
   "cell_type": "code",
   "execution_count": 8,
   "id": "dc444519",
   "metadata": {},
   "outputs": [
    {
     "data": {
      "text/plain": [
       "Statistic Label    0\n",
       "Year               0\n",
       "County             0\n",
       "UNIT               0\n",
       "VALUE              0\n",
       "dtype: int64"
      ]
     },
     "execution_count": 8,
     "metadata": {},
     "output_type": "execute_result"
    }
   ],
   "source": [
    "df1.isnull().sum()"
   ]
  },
  {
   "cell_type": "code",
   "execution_count": 9,
   "id": "8ac425bf",
   "metadata": {},
   "outputs": [],
   "source": [
    "# Keep only columns we want \n",
    "\n",
    "df1 = df1[df1['Statistic Label'] == 'Total Household Income']\n"
   ]
  },
  {
   "cell_type": "code",
   "execution_count": 10,
   "id": "e473b3da",
   "metadata": {},
   "outputs": [],
   "source": [
    "#Rename columns to better explain data\n",
    "\n",
    "df1.rename(columns={'VALUE': 'Household Income (million EUR)'}, inplace=True)"
   ]
  },
  {
   "cell_type": "code",
   "execution_count": 11,
   "id": "78e59e56",
   "metadata": {},
   "outputs": [
    {
     "data": {
      "text/html": [
       "<div>\n",
       "<style scoped>\n",
       "    .dataframe tbody tr th:only-of-type {\n",
       "        vertical-align: middle;\n",
       "    }\n",
       "\n",
       "    .dataframe tbody tr th {\n",
       "        vertical-align: top;\n",
       "    }\n",
       "\n",
       "    .dataframe thead th {\n",
       "        text-align: right;\n",
       "    }\n",
       "</style>\n",
       "<table border=\"1\" class=\"dataframe\">\n",
       "  <thead>\n",
       "    <tr style=\"text-align: right;\">\n",
       "      <th></th>\n",
       "      <th>Statistic Label</th>\n",
       "      <th>Year</th>\n",
       "      <th>County</th>\n",
       "      <th>UNIT</th>\n",
       "      <th>Household Income (million EUR)</th>\n",
       "    </tr>\n",
       "  </thead>\n",
       "  <tbody>\n",
       "    <tr>\n",
       "      <th>162</th>\n",
       "      <td>Total Household Income</td>\n",
       "      <td>2021</td>\n",
       "      <td>Ireland</td>\n",
       "      <td>Euro Million</td>\n",
       "      <td>180057.81</td>\n",
       "    </tr>\n",
       "    <tr>\n",
       "      <th>163</th>\n",
       "      <td>Total Household Income</td>\n",
       "      <td>2021</td>\n",
       "      <td>Co. Carlow</td>\n",
       "      <td>Euro Million</td>\n",
       "      <td>2032.30</td>\n",
       "    </tr>\n",
       "    <tr>\n",
       "      <th>164</th>\n",
       "      <td>Total Household Income</td>\n",
       "      <td>2021</td>\n",
       "      <td>Co. Cavan</td>\n",
       "      <td>Euro Million</td>\n",
       "      <td>2333.79</td>\n",
       "    </tr>\n",
       "    <tr>\n",
       "      <th>165</th>\n",
       "      <td>Total Household Income</td>\n",
       "      <td>2021</td>\n",
       "      <td>Co. Clare</td>\n",
       "      <td>Euro Million</td>\n",
       "      <td>3892.75</td>\n",
       "    </tr>\n",
       "    <tr>\n",
       "      <th>166</th>\n",
       "      <td>Total Household Income</td>\n",
       "      <td>2021</td>\n",
       "      <td>Co. Cork</td>\n",
       "      <td>Euro Million</td>\n",
       "      <td>20711.12</td>\n",
       "    </tr>\n",
       "  </tbody>\n",
       "</table>\n",
       "</div>"
      ],
      "text/plain": [
       "            Statistic Label  Year      County          UNIT  \\\n",
       "162  Total Household Income  2021     Ireland  Euro Million   \n",
       "163  Total Household Income  2021  Co. Carlow  Euro Million   \n",
       "164  Total Household Income  2021   Co. Cavan  Euro Million   \n",
       "165  Total Household Income  2021   Co. Clare  Euro Million   \n",
       "166  Total Household Income  2021    Co. Cork  Euro Million   \n",
       "\n",
       "     Household Income (million EUR)  \n",
       "162                       180057.81  \n",
       "163                         2032.30  \n",
       "164                         2333.79  \n",
       "165                         3892.75  \n",
       "166                        20711.12  "
      ]
     },
     "execution_count": 11,
     "metadata": {},
     "output_type": "execute_result"
    }
   ],
   "source": [
    "df1.head()"
   ]
  },
  {
   "cell_type": "code",
   "execution_count": 12,
   "id": "d8a4f917",
   "metadata": {},
   "outputs": [],
   "source": [
    "# Drop redundant columns \n",
    "\n",
    "df1.drop(columns=['Statistic Label', 'UNIT'], inplace=True)"
   ]
  },
  {
   "cell_type": "code",
   "execution_count": 13,
   "id": "401fa2b8",
   "metadata": {},
   "outputs": [
    {
     "data": {
      "text/html": [
       "<div>\n",
       "<style scoped>\n",
       "    .dataframe tbody tr th:only-of-type {\n",
       "        vertical-align: middle;\n",
       "    }\n",
       "\n",
       "    .dataframe tbody tr th {\n",
       "        vertical-align: top;\n",
       "    }\n",
       "\n",
       "    .dataframe thead th {\n",
       "        text-align: right;\n",
       "    }\n",
       "</style>\n",
       "<table border=\"1\" class=\"dataframe\">\n",
       "  <thead>\n",
       "    <tr style=\"text-align: right;\">\n",
       "      <th></th>\n",
       "      <th>Year</th>\n",
       "      <th>County</th>\n",
       "      <th>Household Income (million EUR)</th>\n",
       "    </tr>\n",
       "  </thead>\n",
       "  <tbody>\n",
       "    <tr>\n",
       "      <th>162</th>\n",
       "      <td>2021</td>\n",
       "      <td>Ireland</td>\n",
       "      <td>180057.81</td>\n",
       "    </tr>\n",
       "    <tr>\n",
       "      <th>163</th>\n",
       "      <td>2021</td>\n",
       "      <td>Co. Carlow</td>\n",
       "      <td>2032.30</td>\n",
       "    </tr>\n",
       "    <tr>\n",
       "      <th>164</th>\n",
       "      <td>2021</td>\n",
       "      <td>Co. Cavan</td>\n",
       "      <td>2333.79</td>\n",
       "    </tr>\n",
       "    <tr>\n",
       "      <th>165</th>\n",
       "      <td>2021</td>\n",
       "      <td>Co. Clare</td>\n",
       "      <td>3892.75</td>\n",
       "    </tr>\n",
       "    <tr>\n",
       "      <th>166</th>\n",
       "      <td>2021</td>\n",
       "      <td>Co. Cork</td>\n",
       "      <td>20711.12</td>\n",
       "    </tr>\n",
       "  </tbody>\n",
       "</table>\n",
       "</div>"
      ],
      "text/plain": [
       "     Year      County  Household Income (million EUR)\n",
       "162  2021     Ireland                       180057.81\n",
       "163  2021  Co. Carlow                         2032.30\n",
       "164  2021   Co. Cavan                         2333.79\n",
       "165  2021   Co. Clare                         3892.75\n",
       "166  2021    Co. Cork                        20711.12"
      ]
     },
     "execution_count": 13,
     "metadata": {},
     "output_type": "execute_result"
    }
   ],
   "source": [
    "df1.head()"
   ]
  },
  {
   "cell_type": "code",
   "execution_count": 14,
   "id": "e602f8e9",
   "metadata": {},
   "outputs": [],
   "source": [
    "#Re-import full dataset\n",
    "\n",
    "df2 = pd.read_csv(\"Household_Income2021.csv\")"
   ]
  },
  {
   "cell_type": "code",
   "execution_count": 15,
   "id": "1cb79fa9",
   "metadata": {},
   "outputs": [],
   "source": [
    "# Keep only columns we want \n",
    "\n",
    "df2 = df2[df2['Statistic Label'] == 'Percentage of Persons at Work']"
   ]
  },
  {
   "cell_type": "code",
   "execution_count": 16,
   "id": "dcbc4e91",
   "metadata": {},
   "outputs": [],
   "source": [
    "#Rename columns to better explain data\n",
    "\n",
    "df2.rename(columns={'VALUE': 'Persons at Work (%)'}, inplace=True)"
   ]
  },
  {
   "cell_type": "code",
   "execution_count": 17,
   "id": "e46b27bd",
   "metadata": {},
   "outputs": [],
   "source": [
    "# Drop redundant columns \n",
    "\n",
    "df2.drop(columns=['Statistic Label', 'UNIT'], inplace=True)"
   ]
  },
  {
   "cell_type": "code",
   "execution_count": 18,
   "id": "4b03859b",
   "metadata": {},
   "outputs": [
    {
     "data": {
      "text/html": [
       "<div>\n",
       "<style scoped>\n",
       "    .dataframe tbody tr th:only-of-type {\n",
       "        vertical-align: middle;\n",
       "    }\n",
       "\n",
       "    .dataframe tbody tr th {\n",
       "        vertical-align: top;\n",
       "    }\n",
       "\n",
       "    .dataframe thead th {\n",
       "        text-align: right;\n",
       "    }\n",
       "</style>\n",
       "<table border=\"1\" class=\"dataframe\">\n",
       "  <thead>\n",
       "    <tr style=\"text-align: right;\">\n",
       "      <th></th>\n",
       "      <th>Year</th>\n",
       "      <th>County</th>\n",
       "      <th>Persons at Work (%)</th>\n",
       "    </tr>\n",
       "  </thead>\n",
       "  <tbody>\n",
       "    <tr>\n",
       "      <th>459</th>\n",
       "      <td>2021</td>\n",
       "      <td>Ireland</td>\n",
       "      <td>100.00</td>\n",
       "    </tr>\n",
       "    <tr>\n",
       "      <th>460</th>\n",
       "      <td>2021</td>\n",
       "      <td>Co. Carlow</td>\n",
       "      <td>0.88</td>\n",
       "    </tr>\n",
       "    <tr>\n",
       "      <th>461</th>\n",
       "      <td>2021</td>\n",
       "      <td>Co. Cavan</td>\n",
       "      <td>1.53</td>\n",
       "    </tr>\n",
       "    <tr>\n",
       "      <th>462</th>\n",
       "      <td>2021</td>\n",
       "      <td>Co. Clare</td>\n",
       "      <td>1.12</td>\n",
       "    </tr>\n",
       "    <tr>\n",
       "      <th>463</th>\n",
       "      <td>2021</td>\n",
       "      <td>Co. Cork</td>\n",
       "      <td>12.83</td>\n",
       "    </tr>\n",
       "  </tbody>\n",
       "</table>\n",
       "</div>"
      ],
      "text/plain": [
       "     Year      County  Persons at Work (%)\n",
       "459  2021     Ireland               100.00\n",
       "460  2021  Co. Carlow                 0.88\n",
       "461  2021   Co. Cavan                 1.53\n",
       "462  2021   Co. Clare                 1.12\n",
       "463  2021    Co. Cork                12.83"
      ]
     },
     "execution_count": 18,
     "metadata": {},
     "output_type": "execute_result"
    }
   ],
   "source": [
    "df2.head()"
   ]
  },
  {
   "cell_type": "code",
   "execution_count": 19,
   "id": "37cdaa45",
   "metadata": {},
   "outputs": [],
   "source": [
    "#Re-import full dataset\n",
    "\n",
    "df3 = pd.read_csv(\"Household_Income2021.csv\")"
   ]
  },
  {
   "cell_type": "code",
   "execution_count": 20,
   "id": "2216c241",
   "metadata": {},
   "outputs": [],
   "source": [
    "# Keep only rows we want \n",
    "\n",
    "df3 = df3[df3['Statistic Label'] == 'Disposable Income per Person']"
   ]
  },
  {
   "cell_type": "code",
   "execution_count": 21,
   "id": "2b0f92e9",
   "metadata": {},
   "outputs": [],
   "source": [
    "#Rename columns to better explain data\n",
    "\n",
    "df3.rename(columns={'VALUE': 'Disposable Income (pp)'}, inplace=True)"
   ]
  },
  {
   "cell_type": "code",
   "execution_count": 22,
   "id": "d4e3141e",
   "metadata": {},
   "outputs": [
    {
     "data": {
      "text/html": [
       "<div>\n",
       "<style scoped>\n",
       "    .dataframe tbody tr th:only-of-type {\n",
       "        vertical-align: middle;\n",
       "    }\n",
       "\n",
       "    .dataframe tbody tr th {\n",
       "        vertical-align: top;\n",
       "    }\n",
       "\n",
       "    .dataframe thead th {\n",
       "        text-align: right;\n",
       "    }\n",
       "</style>\n",
       "<table border=\"1\" class=\"dataframe\">\n",
       "  <thead>\n",
       "    <tr style=\"text-align: right;\">\n",
       "      <th></th>\n",
       "      <th>Statistic Label</th>\n",
       "      <th>Year</th>\n",
       "      <th>County</th>\n",
       "      <th>UNIT</th>\n",
       "      <th>Disposable Income (pp)</th>\n",
       "    </tr>\n",
       "  </thead>\n",
       "  <tbody>\n",
       "    <tr>\n",
       "      <th>297</th>\n",
       "      <td>Disposable Income per Person</td>\n",
       "      <td>2021</td>\n",
       "      <td>Ireland</td>\n",
       "      <td>Euro</td>\n",
       "      <td>24376.10</td>\n",
       "    </tr>\n",
       "    <tr>\n",
       "      <th>298</th>\n",
       "      <td>Disposable Income per Person</td>\n",
       "      <td>2021</td>\n",
       "      <td>Co. Carlow</td>\n",
       "      <td>Euro</td>\n",
       "      <td>24606.46</td>\n",
       "    </tr>\n",
       "    <tr>\n",
       "      <th>299</th>\n",
       "      <td>Disposable Income per Person</td>\n",
       "      <td>2021</td>\n",
       "      <td>Co. Cavan</td>\n",
       "      <td>Euro</td>\n",
       "      <td>21096.88</td>\n",
       "    </tr>\n",
       "    <tr>\n",
       "      <th>300</th>\n",
       "      <td>Disposable Income per Person</td>\n",
       "      <td>2021</td>\n",
       "      <td>Co. Clare</td>\n",
       "      <td>Euro</td>\n",
       "      <td>21834.88</td>\n",
       "    </tr>\n",
       "    <tr>\n",
       "      <th>301</th>\n",
       "      <td>Disposable Income per Person</td>\n",
       "      <td>2021</td>\n",
       "      <td>Co. Cork</td>\n",
       "      <td>Euro</td>\n",
       "      <td>24599.56</td>\n",
       "    </tr>\n",
       "  </tbody>\n",
       "</table>\n",
       "</div>"
      ],
      "text/plain": [
       "                  Statistic Label  Year      County  UNIT  \\\n",
       "297  Disposable Income per Person  2021     Ireland  Euro   \n",
       "298  Disposable Income per Person  2021  Co. Carlow  Euro   \n",
       "299  Disposable Income per Person  2021   Co. Cavan  Euro   \n",
       "300  Disposable Income per Person  2021   Co. Clare  Euro   \n",
       "301  Disposable Income per Person  2021    Co. Cork  Euro   \n",
       "\n",
       "     Disposable Income (pp)  \n",
       "297                24376.10  \n",
       "298                24606.46  \n",
       "299                21096.88  \n",
       "300                21834.88  \n",
       "301                24599.56  "
      ]
     },
     "execution_count": 22,
     "metadata": {},
     "output_type": "execute_result"
    }
   ],
   "source": [
    "df3.head()"
   ]
  },
  {
   "cell_type": "code",
   "execution_count": 23,
   "id": "4581f387",
   "metadata": {},
   "outputs": [],
   "source": [
    "# Drop redundant columns \n",
    "\n",
    "df3.drop(columns=['Statistic Label', 'UNIT'], inplace=True)"
   ]
  },
  {
   "cell_type": "code",
   "execution_count": 24,
   "id": "e7a95830",
   "metadata": {},
   "outputs": [
    {
     "data": {
      "text/html": [
       "<div>\n",
       "<style scoped>\n",
       "    .dataframe tbody tr th:only-of-type {\n",
       "        vertical-align: middle;\n",
       "    }\n",
       "\n",
       "    .dataframe tbody tr th {\n",
       "        vertical-align: top;\n",
       "    }\n",
       "\n",
       "    .dataframe thead th {\n",
       "        text-align: right;\n",
       "    }\n",
       "</style>\n",
       "<table border=\"1\" class=\"dataframe\">\n",
       "  <thead>\n",
       "    <tr style=\"text-align: right;\">\n",
       "      <th></th>\n",
       "      <th>Year</th>\n",
       "      <th>County</th>\n",
       "      <th>Disposable Income (pp)</th>\n",
       "    </tr>\n",
       "  </thead>\n",
       "  <tbody>\n",
       "    <tr>\n",
       "      <th>297</th>\n",
       "      <td>2021</td>\n",
       "      <td>Ireland</td>\n",
       "      <td>24376.10</td>\n",
       "    </tr>\n",
       "    <tr>\n",
       "      <th>298</th>\n",
       "      <td>2021</td>\n",
       "      <td>Co. Carlow</td>\n",
       "      <td>24606.46</td>\n",
       "    </tr>\n",
       "    <tr>\n",
       "      <th>299</th>\n",
       "      <td>2021</td>\n",
       "      <td>Co. Cavan</td>\n",
       "      <td>21096.88</td>\n",
       "    </tr>\n",
       "    <tr>\n",
       "      <th>300</th>\n",
       "      <td>2021</td>\n",
       "      <td>Co. Clare</td>\n",
       "      <td>21834.88</td>\n",
       "    </tr>\n",
       "    <tr>\n",
       "      <th>301</th>\n",
       "      <td>2021</td>\n",
       "      <td>Co. Cork</td>\n",
       "      <td>24599.56</td>\n",
       "    </tr>\n",
       "  </tbody>\n",
       "</table>\n",
       "</div>"
      ],
      "text/plain": [
       "     Year      County  Disposable Income (pp)\n",
       "297  2021     Ireland                24376.10\n",
       "298  2021  Co. Carlow                24606.46\n",
       "299  2021   Co. Cavan                21096.88\n",
       "300  2021   Co. Clare                21834.88\n",
       "301  2021    Co. Cork                24599.56"
      ]
     },
     "execution_count": 24,
     "metadata": {},
     "output_type": "execute_result"
    }
   ],
   "source": [
    "df3.head()"
   ]
  },
  {
   "cell_type": "code",
   "execution_count": 25,
   "id": "de52d66f",
   "metadata": {},
   "outputs": [],
   "source": [
    "#Merge three individual dataframes that were filtered and edited above\n",
    "\n",
    "# Merge df1 and df2 on 'County' column\n",
    "df = pd.merge(df1, df2, on='County', how='inner')\n",
    "\n",
    "# Merge df and df3 on'County' common column\n",
    "df = pd.merge(df, df3, on='County', how='inner')\n"
   ]
  },
  {
   "cell_type": "code",
   "execution_count": 26,
   "id": "62f7d727",
   "metadata": {},
   "outputs": [
    {
     "data": {
      "text/html": [
       "<div>\n",
       "<style scoped>\n",
       "    .dataframe tbody tr th:only-of-type {\n",
       "        vertical-align: middle;\n",
       "    }\n",
       "\n",
       "    .dataframe tbody tr th {\n",
       "        vertical-align: top;\n",
       "    }\n",
       "\n",
       "    .dataframe thead th {\n",
       "        text-align: right;\n",
       "    }\n",
       "</style>\n",
       "<table border=\"1\" class=\"dataframe\">\n",
       "  <thead>\n",
       "    <tr style=\"text-align: right;\">\n",
       "      <th></th>\n",
       "      <th>Year_x</th>\n",
       "      <th>County</th>\n",
       "      <th>Household Income (million EUR)</th>\n",
       "      <th>Year_y</th>\n",
       "      <th>Persons at Work (%)</th>\n",
       "      <th>Year</th>\n",
       "      <th>Disposable Income (pp)</th>\n",
       "    </tr>\n",
       "  </thead>\n",
       "  <tbody>\n",
       "    <tr>\n",
       "      <th>0</th>\n",
       "      <td>2021</td>\n",
       "      <td>Ireland</td>\n",
       "      <td>180057.81</td>\n",
       "      <td>2021</td>\n",
       "      <td>100.00</td>\n",
       "      <td>2021</td>\n",
       "      <td>24376.10</td>\n",
       "    </tr>\n",
       "    <tr>\n",
       "      <th>1</th>\n",
       "      <td>2021</td>\n",
       "      <td>Co. Carlow</td>\n",
       "      <td>2032.30</td>\n",
       "      <td>2021</td>\n",
       "      <td>0.88</td>\n",
       "      <td>2021</td>\n",
       "      <td>24606.46</td>\n",
       "    </tr>\n",
       "    <tr>\n",
       "      <th>2</th>\n",
       "      <td>2021</td>\n",
       "      <td>Co. Cavan</td>\n",
       "      <td>2333.79</td>\n",
       "      <td>2021</td>\n",
       "      <td>1.53</td>\n",
       "      <td>2021</td>\n",
       "      <td>21096.88</td>\n",
       "    </tr>\n",
       "    <tr>\n",
       "      <th>3</th>\n",
       "      <td>2021</td>\n",
       "      <td>Co. Clare</td>\n",
       "      <td>3892.75</td>\n",
       "      <td>2021</td>\n",
       "      <td>1.12</td>\n",
       "      <td>2021</td>\n",
       "      <td>21834.88</td>\n",
       "    </tr>\n",
       "    <tr>\n",
       "      <th>4</th>\n",
       "      <td>2021</td>\n",
       "      <td>Co. Cork</td>\n",
       "      <td>20711.12</td>\n",
       "      <td>2021</td>\n",
       "      <td>12.83</td>\n",
       "      <td>2021</td>\n",
       "      <td>24599.56</td>\n",
       "    </tr>\n",
       "  </tbody>\n",
       "</table>\n",
       "</div>"
      ],
      "text/plain": [
       "   Year_x      County  Household Income (million EUR)  Year_y  \\\n",
       "0    2021     Ireland                       180057.81    2021   \n",
       "1    2021  Co. Carlow                         2032.30    2021   \n",
       "2    2021   Co. Cavan                         2333.79    2021   \n",
       "3    2021   Co. Clare                         3892.75    2021   \n",
       "4    2021    Co. Cork                        20711.12    2021   \n",
       "\n",
       "   Persons at Work (%)  Year  Disposable Income (pp)  \n",
       "0               100.00  2021                24376.10  \n",
       "1                 0.88  2021                24606.46  \n",
       "2                 1.53  2021                21096.88  \n",
       "3                 1.12  2021                21834.88  \n",
       "4                12.83  2021                24599.56  "
      ]
     },
     "execution_count": 26,
     "metadata": {},
     "output_type": "execute_result"
    }
   ],
   "source": [
    "df.head()"
   ]
  },
  {
   "cell_type": "code",
   "execution_count": 27,
   "id": "d227837d",
   "metadata": {},
   "outputs": [],
   "source": [
    "# Drop redundant columns (all years are 2021)\n",
    "\n",
    "df.drop(columns=['Year_x', 'Year_y', 'Year'], inplace=True)"
   ]
  },
  {
   "cell_type": "code",
   "execution_count": 28,
   "id": "915985df",
   "metadata": {},
   "outputs": [
    {
     "data": {
      "text/html": [
       "<div>\n",
       "<style scoped>\n",
       "    .dataframe tbody tr th:only-of-type {\n",
       "        vertical-align: middle;\n",
       "    }\n",
       "\n",
       "    .dataframe tbody tr th {\n",
       "        vertical-align: top;\n",
       "    }\n",
       "\n",
       "    .dataframe thead th {\n",
       "        text-align: right;\n",
       "    }\n",
       "</style>\n",
       "<table border=\"1\" class=\"dataframe\">\n",
       "  <thead>\n",
       "    <tr style=\"text-align: right;\">\n",
       "      <th></th>\n",
       "      <th>County</th>\n",
       "      <th>Household Income (million EUR)</th>\n",
       "      <th>Persons at Work (%)</th>\n",
       "      <th>Disposable Income (pp)</th>\n",
       "    </tr>\n",
       "  </thead>\n",
       "  <tbody>\n",
       "    <tr>\n",
       "      <th>0</th>\n",
       "      <td>Ireland</td>\n",
       "      <td>180057.81</td>\n",
       "      <td>100.00</td>\n",
       "      <td>24376.10</td>\n",
       "    </tr>\n",
       "    <tr>\n",
       "      <th>1</th>\n",
       "      <td>Co. Carlow</td>\n",
       "      <td>2032.30</td>\n",
       "      <td>0.88</td>\n",
       "      <td>24606.46</td>\n",
       "    </tr>\n",
       "    <tr>\n",
       "      <th>2</th>\n",
       "      <td>Co. Cavan</td>\n",
       "      <td>2333.79</td>\n",
       "      <td>1.53</td>\n",
       "      <td>21096.88</td>\n",
       "    </tr>\n",
       "    <tr>\n",
       "      <th>3</th>\n",
       "      <td>Co. Clare</td>\n",
       "      <td>3892.75</td>\n",
       "      <td>1.12</td>\n",
       "      <td>21834.88</td>\n",
       "    </tr>\n",
       "    <tr>\n",
       "      <th>4</th>\n",
       "      <td>Co. Cork</td>\n",
       "      <td>20711.12</td>\n",
       "      <td>12.83</td>\n",
       "      <td>24599.56</td>\n",
       "    </tr>\n",
       "  </tbody>\n",
       "</table>\n",
       "</div>"
      ],
      "text/plain": [
       "       County  Household Income (million EUR)  Persons at Work (%)  \\\n",
       "0     Ireland                       180057.81               100.00   \n",
       "1  Co. Carlow                         2032.30                 0.88   \n",
       "2   Co. Cavan                         2333.79                 1.53   \n",
       "3   Co. Clare                         3892.75                 1.12   \n",
       "4    Co. Cork                        20711.12                12.83   \n",
       "\n",
       "   Disposable Income (pp)  \n",
       "0                24376.10  \n",
       "1                24606.46  \n",
       "2                21096.88  \n",
       "3                21834.88  \n",
       "4                24599.56  "
      ]
     },
     "execution_count": 28,
     "metadata": {},
     "output_type": "execute_result"
    }
   ],
   "source": [
    "df.head()"
   ]
  },
  {
   "cell_type": "code",
   "execution_count": 29,
   "id": "dad9776d",
   "metadata": {},
   "outputs": [
    {
     "data": {
      "text/plain": [
       "(27, 4)"
      ]
     },
     "execution_count": 29,
     "metadata": {},
     "output_type": "execute_result"
    }
   ],
   "source": [
    "df.shape"
   ]
  },
  {
   "cell_type": "code",
   "execution_count": 30,
   "id": "9e039ea3",
   "metadata": {},
   "outputs": [],
   "source": [
    "# Import Activities Dataframe\n",
    "\n",
    "df4 = pd.read_csv(\"Activities2021.csv\")"
   ]
  },
  {
   "cell_type": "code",
   "execution_count": 31,
   "id": "b78b9951",
   "metadata": {},
   "outputs": [
    {
     "data": {
      "text/html": [
       "<div>\n",
       "<style scoped>\n",
       "    .dataframe tbody tr th:only-of-type {\n",
       "        vertical-align: middle;\n",
       "    }\n",
       "\n",
       "    .dataframe tbody tr th {\n",
       "        vertical-align: top;\n",
       "    }\n",
       "\n",
       "    .dataframe thead th {\n",
       "        text-align: right;\n",
       "    }\n",
       "</style>\n",
       "<table border=\"1\" class=\"dataframe\">\n",
       "  <thead>\n",
       "    <tr style=\"text-align: right;\">\n",
       "      <th></th>\n",
       "      <th>Name</th>\n",
       "      <th>Url</th>\n",
       "      <th>Telephone</th>\n",
       "      <th>Longitude</th>\n",
       "      <th>Latitude</th>\n",
       "      <th>AddressRegion</th>\n",
       "      <th>AddressLocality</th>\n",
       "      <th>AddressCountry</th>\n",
       "      <th>Tags</th>\n",
       "    </tr>\n",
       "  </thead>\n",
       "  <tbody>\n",
       "    <tr>\n",
       "      <th>0</th>\n",
       "      <td>Bella &amp; Brava Restaurant</td>\n",
       "      <td>https://bellabravarestaurant.com/</td>\n",
       "      <td>353719306727</td>\n",
       "      <td>-8.605609</td>\n",
       "      <td>54.171017</td>\n",
       "      <td>Sligo</td>\n",
       "      <td>Coolaney</td>\n",
       "      <td>Ireland</td>\n",
       "      <td>Food and Drink,Restaurant,Local Produce</td>\n",
       "    </tr>\n",
       "    <tr>\n",
       "      <th>1</th>\n",
       "      <td>The Adventure Islands</td>\n",
       "      <td>https://www.theadventureisland.com/</td>\n",
       "      <td>353862518252</td>\n",
       "      <td>-9.630803</td>\n",
       "      <td>53.827844</td>\n",
       "      <td>Mayo</td>\n",
       "      <td>Westport</td>\n",
       "      <td>Ireland</td>\n",
       "      <td>Kayaking,Activity Operator,Walking,Day Tour,To...</td>\n",
       "    </tr>\n",
       "    <tr>\n",
       "      <th>2</th>\n",
       "      <td>Trad on the Prom</td>\n",
       "      <td>https://www.tradontheprom.com/</td>\n",
       "      <td>35391582860</td>\n",
       "      <td>-9.082323</td>\n",
       "      <td>53.259036</td>\n",
       "      <td>Galway</td>\n",
       "      <td>NaN</td>\n",
       "      <td>Ireland</td>\n",
       "      <td>Traditionally Irish,Venue,Music</td>\n",
       "    </tr>\n",
       "    <tr>\n",
       "      <th>3</th>\n",
       "      <td>Kilclooney Wood</td>\n",
       "      <td>http://www.coillte.ie</td>\n",
       "      <td>NaN</td>\n",
       "      <td>-7.426484</td>\n",
       "      <td>52.203447</td>\n",
       "      <td>Waterford</td>\n",
       "      <td>Kilmacthomas</td>\n",
       "      <td>Republic of Ireland</td>\n",
       "      <td>Walking,Forest Park,Park and Forest Walk</td>\n",
       "    </tr>\n",
       "    <tr>\n",
       "      <th>4</th>\n",
       "      <td>The Ring of Kerry Cycle Route</td>\n",
       "      <td>NaN</td>\n",
       "      <td>+353(0)646631633</td>\n",
       "      <td>-9.750439</td>\n",
       "      <td>52.167083</td>\n",
       "      <td>Kerry</td>\n",
       "      <td>NaN</td>\n",
       "      <td>Republic of Ireland</td>\n",
       "      <td>Cycling</td>\n",
       "    </tr>\n",
       "  </tbody>\n",
       "</table>\n",
       "</div>"
      ],
      "text/plain": [
       "                            Name                                  Url  \\\n",
       "0       Bella & Brava Restaurant    https://bellabravarestaurant.com/   \n",
       "1          The Adventure Islands  https://www.theadventureisland.com/   \n",
       "2               Trad on the Prom       https://www.tradontheprom.com/   \n",
       "3                Kilclooney Wood                http://www.coillte.ie   \n",
       "4  The Ring of Kerry Cycle Route                                  NaN   \n",
       "\n",
       "          Telephone  Longitude   Latitude AddressRegion AddressLocality  \\\n",
       "0      353719306727  -8.605609  54.171017         Sligo        Coolaney   \n",
       "1      353862518252  -9.630803  53.827844          Mayo        Westport   \n",
       "2       35391582860  -9.082323  53.259036        Galway             NaN   \n",
       "3               NaN  -7.426484  52.203447     Waterford    Kilmacthomas   \n",
       "4  +353(0)646631633  -9.750439  52.167083         Kerry             NaN   \n",
       "\n",
       "        AddressCountry                                               Tags  \n",
       "0              Ireland            Food and Drink,Restaurant,Local Produce  \n",
       "1              Ireland  Kayaking,Activity Operator,Walking,Day Tour,To...  \n",
       "2              Ireland                    Traditionally Irish,Venue,Music  \n",
       "3  Republic of Ireland           Walking,Forest Park,Park and Forest Walk  \n",
       "4  Republic of Ireland                                            Cycling  "
      ]
     },
     "execution_count": 31,
     "metadata": {},
     "output_type": "execute_result"
    }
   ],
   "source": [
    "#Basic exploration of data frame\n",
    "\n",
    "df4.head()"
   ]
  },
  {
   "cell_type": "code",
   "execution_count": 32,
   "id": "8817ddbc",
   "metadata": {},
   "outputs": [
    {
     "data": {
      "text/plain": [
       "(6107, 9)"
      ]
     },
     "execution_count": 32,
     "metadata": {},
     "output_type": "execute_result"
    }
   ],
   "source": [
    "df4.shape"
   ]
  },
  {
   "cell_type": "code",
   "execution_count": 33,
   "id": "e99ca75f",
   "metadata": {},
   "outputs": [
    {
     "name": "stdout",
     "output_type": "stream",
     "text": [
      "<class 'pandas.core.frame.DataFrame'>\n",
      "RangeIndex: 6107 entries, 0 to 6106\n",
      "Data columns (total 9 columns):\n",
      " #   Column           Non-Null Count  Dtype  \n",
      "---  ------           --------------  -----  \n",
      " 0   Name             6107 non-null   object \n",
      " 1   Url              5681 non-null   object \n",
      " 2   Telephone        5230 non-null   object \n",
      " 3   Longitude        6107 non-null   float64\n",
      " 4   Latitude         6107 non-null   float64\n",
      " 5   AddressRegion    6107 non-null   object \n",
      " 6   AddressLocality  5996 non-null   object \n",
      " 7   AddressCountry   6107 non-null   object \n",
      " 8   Tags             5949 non-null   object \n",
      "dtypes: float64(2), object(7)\n",
      "memory usage: 429.5+ KB\n"
     ]
    }
   ],
   "source": [
    "df4.info()"
   ]
  },
  {
   "cell_type": "code",
   "execution_count": 34,
   "id": "c0b48546",
   "metadata": {},
   "outputs": [
    {
     "name": "stdout",
     "output_type": "stream",
     "text": [
      "AddressRegion\n",
      "Dublin       1140\n",
      "Cork          653\n",
      "Kerry         535\n",
      "Galway        504\n",
      "Donegal       391\n",
      "Mayo          336\n",
      "Clare         324\n",
      "Waterford     215\n",
      "Wicklow       200\n",
      "Wexford       192\n",
      "Sligo         191\n",
      "Limerick      182\n",
      "Kilkenny      181\n",
      "Tipperary     156\n",
      "Kildare       133\n",
      "Meath         123\n",
      "Louth         104\n",
      "Westmeath     103\n",
      "Carlow         76\n",
      "Offaly         69\n",
      "Roscommon      66\n",
      "Laois          57\n",
      "Cavan          55\n",
      "Leitrim        53\n",
      "Monaghan       41\n",
      "Longford       27\n",
      "Name: count, dtype: int64\n"
     ]
    }
   ],
   "source": [
    "# Get sum counts of individual activities for each County\n",
    "\n",
    "county_counts = df4['AddressRegion'].value_counts()\n",
    "\n",
    "print(county_counts)"
   ]
  },
  {
   "cell_type": "code",
   "execution_count": 35,
   "id": "3becd2ff",
   "metadata": {},
   "outputs": [
    {
     "name": "stdout",
     "output_type": "stream",
     "text": [
      "   AddressRegion  Count\n",
      "0         Dublin   1140\n",
      "1           Cork    653\n",
      "2          Kerry    535\n",
      "3         Galway    504\n",
      "4        Donegal    391\n",
      "5           Mayo    336\n",
      "6          Clare    324\n",
      "7      Waterford    215\n",
      "8        Wicklow    200\n",
      "9        Wexford    192\n",
      "10         Sligo    191\n",
      "11      Limerick    182\n",
      "12      Kilkenny    181\n",
      "13     Tipperary    156\n",
      "14       Kildare    133\n",
      "15         Meath    123\n",
      "16         Louth    104\n",
      "17     Westmeath    103\n",
      "18        Carlow     76\n",
      "19        Offaly     69\n",
      "20     Roscommon     66\n",
      "21         Laois     57\n",
      "22         Cavan     55\n",
      "23       Leitrim     53\n",
      "24      Monaghan     41\n",
      "25      Longford     27\n"
     ]
    }
   ],
   "source": [
    "# Create new df with the sum of activites per County\n",
    "\n",
    "# Create DataFrame from county_counts Series\n",
    "df5 = pd.DataFrame({'AddressRegion': county_counts.index, 'Count': county_counts.values})\n",
    "\n",
    "print(df5)"
   ]
  },
  {
   "cell_type": "code",
   "execution_count": 36,
   "id": "4deb8473",
   "metadata": {},
   "outputs": [
    {
     "name": "stdout",
     "output_type": "stream",
     "text": [
      "   AddressRegion  Count\n",
      "0         Dublin   1140\n",
      "1           Cork    653\n",
      "2          Kerry    535\n",
      "3         Galway    504\n",
      "4        Donegal    391\n",
      "5           Mayo    336\n",
      "6          Clare    324\n",
      "7      Waterford    215\n",
      "8        Wicklow    200\n",
      "9        Wexford    192\n",
      "10         Sligo    191\n",
      "11      Limerick    182\n",
      "12      Kilkenny    181\n",
      "13     Tipperary    156\n",
      "14       Kildare    133\n",
      "15         Meath    123\n",
      "16         Louth    104\n",
      "17     Westmeath    103\n",
      "18        Carlow     76\n",
      "19        Offaly     69\n",
      "20     Roscommon     66\n",
      "21         Laois     57\n",
      "22         Cavan     55\n",
      "23       Leitrim     53\n",
      "24      Monaghan     41\n",
      "25      Longford     27\n",
      "26       Ireland   6107\n"
     ]
    }
   ],
   "source": [
    "# Add a new row entry to include a column with sum of all counts for 'Ireland'\n",
    "\n",
    "# Calculate the sum of all counts\n",
    "total_count = df5['Count'].sum()\n",
    "\n",
    "# Create new DataFrame for 'Ireland' with the total count\n",
    "ireland_row = pd.DataFrame({'AddressRegion': ['Ireland'], 'Count': [total_count]})\n",
    "\n",
    "# Concatenate df5 and ireland_row\n",
    "df5 = pd.concat([df5, ireland_row], ignore_index=True)\n",
    "\n",
    "print(df5)"
   ]
  },
  {
   "cell_type": "code",
   "execution_count": 37,
   "id": "ae84aebb",
   "metadata": {},
   "outputs": [
    {
     "data": {
      "text/html": [
       "<div>\n",
       "<style scoped>\n",
       "    .dataframe tbody tr th:only-of-type {\n",
       "        vertical-align: middle;\n",
       "    }\n",
       "\n",
       "    .dataframe tbody tr th {\n",
       "        vertical-align: top;\n",
       "    }\n",
       "\n",
       "    .dataframe thead th {\n",
       "        text-align: right;\n",
       "    }\n",
       "</style>\n",
       "<table border=\"1\" class=\"dataframe\">\n",
       "  <thead>\n",
       "    <tr style=\"text-align: right;\">\n",
       "      <th></th>\n",
       "      <th>County</th>\n",
       "      <th>Total Activities</th>\n",
       "    </tr>\n",
       "  </thead>\n",
       "  <tbody>\n",
       "    <tr>\n",
       "      <th>0</th>\n",
       "      <td>Dublin</td>\n",
       "      <td>1140</td>\n",
       "    </tr>\n",
       "    <tr>\n",
       "      <th>1</th>\n",
       "      <td>Cork</td>\n",
       "      <td>653</td>\n",
       "    </tr>\n",
       "    <tr>\n",
       "      <th>2</th>\n",
       "      <td>Kerry</td>\n",
       "      <td>535</td>\n",
       "    </tr>\n",
       "    <tr>\n",
       "      <th>3</th>\n",
       "      <td>Galway</td>\n",
       "      <td>504</td>\n",
       "    </tr>\n",
       "    <tr>\n",
       "      <th>4</th>\n",
       "      <td>Donegal</td>\n",
       "      <td>391</td>\n",
       "    </tr>\n",
       "  </tbody>\n",
       "</table>\n",
       "</div>"
      ],
      "text/plain": [
       "    County  Total Activities\n",
       "0   Dublin              1140\n",
       "1     Cork               653\n",
       "2    Kerry               535\n",
       "3   Galway               504\n",
       "4  Donegal               391"
      ]
     },
     "execution_count": 37,
     "metadata": {},
     "output_type": "execute_result"
    }
   ],
   "source": [
    "#Rename columns to better explain data\n",
    "df5.rename(columns={'AddressRegion': 'County', 'Count': 'Total Activities'}, inplace=True)\n",
    "\n",
    "df5.head()"
   ]
  },
  {
   "cell_type": "code",
   "execution_count": 38,
   "id": "e39b9f73",
   "metadata": {},
   "outputs": [
    {
     "name": "stdout",
     "output_type": "stream",
     "text": [
      "Unique values in df['County']:  ['Ireland' 'Co. Carlow' 'Co. Cavan' 'Co. Clare' 'Co. Cork' 'Co. Donegal'\n",
      " 'Co. Dublin' 'Co. Galway' 'Co. Kerry' 'Co. Kildare' 'Co. Kilkenny'\n",
      " 'Co. Laois' 'Co. Leitrim' 'Co. Limerick' 'Co. Longford' 'Co. Louth'\n",
      " 'Co. Mayo' 'Co. Meath' 'Co. Monaghan' 'Co. Offaly' 'Co. Roscommon'\n",
      " 'Co. Sligo' 'Co. Tipperary' 'Co. Waterford' 'Co. Westmeath' 'Co. Wexford'\n",
      " 'Co. Wicklow']\n",
      "Unique values in df5['County']:  ['Dublin' 'Cork' 'Kerry' 'Galway' 'Donegal' 'Mayo' 'Clare' 'Waterford'\n",
      " 'Wicklow' 'Wexford' 'Sligo' 'Limerick' 'Kilkenny' 'Tipperary' 'Kildare'\n",
      " 'Meath' 'Louth' 'Westmeath' 'Carlow' 'Offaly' 'Roscommon' 'Laois' 'Cavan'\n",
      " 'Leitrim' 'Monaghan' 'Longford' 'Ireland']\n"
     ]
    }
   ],
   "source": [
    "# Check all 'County' names are the same before df merge\n",
    "\n",
    "print(\"Unique values in df['County']: \", df['County'].unique())\n",
    "print(\"Unique values in df5['County']: \", df5['County'].unique())\n"
   ]
  },
  {
   "cell_type": "code",
   "execution_count": 39,
   "id": "2b144f64",
   "metadata": {},
   "outputs": [],
   "source": [
    "# Remove iconsistencies between two df's to be merged\n",
    "\n",
    "df['County'] = df['County'].str.replace('Co. ', '')"
   ]
  },
  {
   "cell_type": "code",
   "execution_count": 40,
   "id": "71baef4f",
   "metadata": {},
   "outputs": [
    {
     "name": "stdout",
     "output_type": "stream",
     "text": [
      "Unique values in df['County']:  ['Ireland' 'Carlow' 'Cavan' 'Clare' 'Cork' 'Donegal' 'Dublin' 'Galway'\n",
      " 'Kerry' 'Kildare' 'Kilkenny' 'Laois' 'Leitrim' 'Limerick' 'Longford'\n",
      " 'Louth' 'Mayo' 'Meath' 'Monaghan' 'Offaly' 'Roscommon' 'Sligo'\n",
      " 'Tipperary' 'Waterford' 'Westmeath' 'Wexford' 'Wicklow']\n",
      "Unique values in df5['County']:  ['Dublin' 'Cork' 'Kerry' 'Galway' 'Donegal' 'Mayo' 'Clare' 'Waterford'\n",
      " 'Wicklow' 'Wexford' 'Sligo' 'Limerick' 'Kilkenny' 'Tipperary' 'Kildare'\n",
      " 'Meath' 'Louth' 'Westmeath' 'Carlow' 'Offaly' 'Roscommon' 'Laois' 'Cavan'\n",
      " 'Leitrim' 'Monaghan' 'Longford' 'Ireland']\n"
     ]
    }
   ],
   "source": [
    "# Check this has been successful\n",
    "\n",
    "print(\"Unique values in df['County']: \", df['County'].unique())\n",
    "print(\"Unique values in df5['County']: \", df5['County'].unique())"
   ]
  },
  {
   "cell_type": "code",
   "execution_count": 41,
   "id": "c030184b",
   "metadata": {},
   "outputs": [],
   "source": [
    "# Merge df and df5 on 'County' column\n",
    "\n",
    "df = pd.merge(df, df5, on='County', how='inner')"
   ]
  },
  {
   "cell_type": "code",
   "execution_count": 42,
   "id": "fa7c816c",
   "metadata": {},
   "outputs": [
    {
     "data": {
      "text/plain": [
       "(27, 5)"
      ]
     },
     "execution_count": 42,
     "metadata": {},
     "output_type": "execute_result"
    }
   ],
   "source": [
    "df.shape"
   ]
  },
  {
   "cell_type": "code",
   "execution_count": 43,
   "id": "1322ebbc",
   "metadata": {},
   "outputs": [
    {
     "data": {
      "text/html": [
       "<div>\n",
       "<style scoped>\n",
       "    .dataframe tbody tr th:only-of-type {\n",
       "        vertical-align: middle;\n",
       "    }\n",
       "\n",
       "    .dataframe tbody tr th {\n",
       "        vertical-align: top;\n",
       "    }\n",
       "\n",
       "    .dataframe thead th {\n",
       "        text-align: right;\n",
       "    }\n",
       "</style>\n",
       "<table border=\"1\" class=\"dataframe\">\n",
       "  <thead>\n",
       "    <tr style=\"text-align: right;\">\n",
       "      <th></th>\n",
       "      <th>County</th>\n",
       "      <th>Household Income (million EUR)</th>\n",
       "      <th>Persons at Work (%)</th>\n",
       "      <th>Disposable Income (pp)</th>\n",
       "      <th>Total Activities</th>\n",
       "    </tr>\n",
       "  </thead>\n",
       "  <tbody>\n",
       "    <tr>\n",
       "      <th>0</th>\n",
       "      <td>Ireland</td>\n",
       "      <td>180057.81</td>\n",
       "      <td>100.00</td>\n",
       "      <td>24376.10</td>\n",
       "      <td>6107</td>\n",
       "    </tr>\n",
       "    <tr>\n",
       "      <th>1</th>\n",
       "      <td>Carlow</td>\n",
       "      <td>2032.30</td>\n",
       "      <td>0.88</td>\n",
       "      <td>24606.46</td>\n",
       "      <td>76</td>\n",
       "    </tr>\n",
       "    <tr>\n",
       "      <th>2</th>\n",
       "      <td>Cavan</td>\n",
       "      <td>2333.79</td>\n",
       "      <td>1.53</td>\n",
       "      <td>21096.88</td>\n",
       "      <td>55</td>\n",
       "    </tr>\n",
       "    <tr>\n",
       "      <th>3</th>\n",
       "      <td>Clare</td>\n",
       "      <td>3892.75</td>\n",
       "      <td>1.12</td>\n",
       "      <td>21834.88</td>\n",
       "      <td>324</td>\n",
       "    </tr>\n",
       "    <tr>\n",
       "      <th>4</th>\n",
       "      <td>Cork</td>\n",
       "      <td>20711.12</td>\n",
       "      <td>12.83</td>\n",
       "      <td>24599.56</td>\n",
       "      <td>653</td>\n",
       "    </tr>\n",
       "  </tbody>\n",
       "</table>\n",
       "</div>"
      ],
      "text/plain": [
       "    County  Household Income (million EUR)  Persons at Work (%)  \\\n",
       "0  Ireland                       180057.81               100.00   \n",
       "1   Carlow                         2032.30                 0.88   \n",
       "2    Cavan                         2333.79                 1.53   \n",
       "3    Clare                         3892.75                 1.12   \n",
       "4     Cork                        20711.12                12.83   \n",
       "\n",
       "   Disposable Income (pp)  Total Activities  \n",
       "0                24376.10              6107  \n",
       "1                24606.46                76  \n",
       "2                21096.88                55  \n",
       "3                21834.88               324  \n",
       "4                24599.56               653  "
      ]
     },
     "execution_count": 43,
     "metadata": {},
     "output_type": "execute_result"
    }
   ],
   "source": [
    "df.head()"
   ]
  },
  {
   "cell_type": "code",
   "execution_count": 44,
   "id": "8019b041",
   "metadata": {},
   "outputs": [],
   "source": [
    "# Import Accomodation dataframe\n",
    "\n",
    "df6 = pd.read_csv(\"Accommodation2021.csv\")"
   ]
  },
  {
   "cell_type": "code",
   "execution_count": 45,
   "id": "768c79f8",
   "metadata": {},
   "outputs": [
    {
     "data": {
      "text/html": [
       "<div>\n",
       "<style scoped>\n",
       "    .dataframe tbody tr th:only-of-type {\n",
       "        vertical-align: middle;\n",
       "    }\n",
       "\n",
       "    .dataframe tbody tr th {\n",
       "        vertical-align: top;\n",
       "    }\n",
       "\n",
       "    .dataframe thead th {\n",
       "        text-align: right;\n",
       "    }\n",
       "</style>\n",
       "<table border=\"1\" class=\"dataframe\">\n",
       "  <thead>\n",
       "    <tr style=\"text-align: right;\">\n",
       "      <th></th>\n",
       "      <th>Name</th>\n",
       "      <th>Url</th>\n",
       "      <th>Telephone</th>\n",
       "      <th>Longitude</th>\n",
       "      <th>Latitude</th>\n",
       "      <th>AddressRegion</th>\n",
       "      <th>AddressLocality</th>\n",
       "      <th>AddressCountry</th>\n",
       "      <th>Tags</th>\n",
       "    </tr>\n",
       "  </thead>\n",
       "  <tbody>\n",
       "    <tr>\n",
       "      <th>0</th>\n",
       "      <td>Hideaway Camping and Caravan Park</td>\n",
       "      <td>NaN</td>\n",
       "      <td>+353(0)2822254</td>\n",
       "      <td>-9.260331</td>\n",
       "      <td>51.541699</td>\n",
       "      <td>Cork</td>\n",
       "      <td>Skibbereen</td>\n",
       "      <td>Republic of Ireland</td>\n",
       "      <td>Camping</td>\n",
       "    </tr>\n",
       "    <tr>\n",
       "      <th>1</th>\n",
       "      <td>Clonvilla</td>\n",
       "      <td>NaN</td>\n",
       "      <td>+353(0)2498288</td>\n",
       "      <td>-7.924324</td>\n",
       "      <td>51.910660</td>\n",
       "      <td>Cork</td>\n",
       "      <td>Youghal</td>\n",
       "      <td>Republic of Ireland</td>\n",
       "      <td>Camping</td>\n",
       "    </tr>\n",
       "    <tr>\n",
       "      <th>2</th>\n",
       "      <td>Rosses Point Caravan Park (Greenlands)</td>\n",
       "      <td>http://www.sligocaravanandcamping.ie</td>\n",
       "      <td>+353(0)719177113</td>\n",
       "      <td>-8.569483</td>\n",
       "      <td>54.306976</td>\n",
       "      <td>Sligo</td>\n",
       "      <td>Rosses Point</td>\n",
       "      <td>Republic of Ireland</td>\n",
       "      <td>Camping</td>\n",
       "    </tr>\n",
       "    <tr>\n",
       "      <th>3</th>\n",
       "      <td>Strandhill Caravan and Camping Park</td>\n",
       "      <td>http://www.sligocaravanandcamping.ie</td>\n",
       "      <td>+353(0)719168111</td>\n",
       "      <td>-8.605472</td>\n",
       "      <td>54.271988</td>\n",
       "      <td>Sligo</td>\n",
       "      <td>Airport Road</td>\n",
       "      <td>Republic of Ireland</td>\n",
       "      <td>Camping</td>\n",
       "    </tr>\n",
       "    <tr>\n",
       "      <th>4</th>\n",
       "      <td>Flemings White Bridge Caravan and Camping</td>\n",
       "      <td>http://www.killarneycamping.com</td>\n",
       "      <td>+353(0)646631590</td>\n",
       "      <td>-9.475904</td>\n",
       "      <td>52.057113</td>\n",
       "      <td>Kerry</td>\n",
       "      <td>Killarney</td>\n",
       "      <td>Republic of Ireland</td>\n",
       "      <td>Camping</td>\n",
       "    </tr>\n",
       "  </tbody>\n",
       "</table>\n",
       "</div>"
      ],
      "text/plain": [
       "                                        Name  \\\n",
       "0          Hideaway Camping and Caravan Park   \n",
       "1                                  Clonvilla   \n",
       "2     Rosses Point Caravan Park (Greenlands)   \n",
       "3        Strandhill Caravan and Camping Park   \n",
       "4  Flemings White Bridge Caravan and Camping   \n",
       "\n",
       "                                    Url         Telephone  Longitude  \\\n",
       "0                                   NaN    +353(0)2822254  -9.260331   \n",
       "1                                   NaN    +353(0)2498288  -7.924324   \n",
       "2  http://www.sligocaravanandcamping.ie  +353(0)719177113  -8.569483   \n",
       "3  http://www.sligocaravanandcamping.ie  +353(0)719168111  -8.605472   \n",
       "4       http://www.killarneycamping.com  +353(0)646631590  -9.475904   \n",
       "\n",
       "    Latitude AddressRegion AddressLocality       AddressCountry     Tags  \n",
       "0  51.541699          Cork      Skibbereen  Republic of Ireland  Camping  \n",
       "1  51.910660          Cork         Youghal  Republic of Ireland  Camping  \n",
       "2  54.306976         Sligo    Rosses Point  Republic of Ireland  Camping  \n",
       "3  54.271988         Sligo    Airport Road  Republic of Ireland  Camping  \n",
       "4  52.057113         Kerry       Killarney  Republic of Ireland  Camping  "
      ]
     },
     "execution_count": 45,
     "metadata": {},
     "output_type": "execute_result"
    }
   ],
   "source": [
    "df6.head()"
   ]
  },
  {
   "cell_type": "code",
   "execution_count": 46,
   "id": "96f94782",
   "metadata": {},
   "outputs": [
    {
     "name": "stdout",
     "output_type": "stream",
     "text": [
      "<class 'pandas.core.frame.DataFrame'>\n",
      "RangeIndex: 2337 entries, 0 to 2336\n",
      "Data columns (total 9 columns):\n",
      " #   Column           Non-Null Count  Dtype  \n",
      "---  ------           --------------  -----  \n",
      " 0   Name             2337 non-null   object \n",
      " 1   Url              2176 non-null   object \n",
      " 2   Telephone        2333 non-null   object \n",
      " 3   Longitude        2337 non-null   float64\n",
      " 4   Latitude         2337 non-null   float64\n",
      " 5   AddressRegion    2337 non-null   object \n",
      " 6   AddressLocality  2174 non-null   object \n",
      " 7   AddressCountry   2337 non-null   object \n",
      " 8   Tags             2337 non-null   object \n",
      "dtypes: float64(2), object(7)\n",
      "memory usage: 164.4+ KB\n"
     ]
    }
   ],
   "source": [
    "df6.info()"
   ]
  },
  {
   "cell_type": "code",
   "execution_count": 47,
   "id": "b8ed3aca",
   "metadata": {},
   "outputs": [
    {
     "data": {
      "text/html": [
       "<div>\n",
       "<style scoped>\n",
       "    .dataframe tbody tr th:only-of-type {\n",
       "        vertical-align: middle;\n",
       "    }\n",
       "\n",
       "    .dataframe tbody tr th {\n",
       "        vertical-align: top;\n",
       "    }\n",
       "\n",
       "    .dataframe thead th {\n",
       "        text-align: right;\n",
       "    }\n",
       "</style>\n",
       "<table border=\"1\" class=\"dataframe\">\n",
       "  <thead>\n",
       "    <tr style=\"text-align: right;\">\n",
       "      <th></th>\n",
       "      <th>AddressRegion</th>\n",
       "      <th>Count</th>\n",
       "    </tr>\n",
       "  </thead>\n",
       "  <tbody>\n",
       "    <tr>\n",
       "      <th>0</th>\n",
       "      <td>Kerry</td>\n",
       "      <td>308</td>\n",
       "    </tr>\n",
       "    <tr>\n",
       "      <th>1</th>\n",
       "      <td>Cork</td>\n",
       "      <td>252</td>\n",
       "    </tr>\n",
       "    <tr>\n",
       "      <th>2</th>\n",
       "      <td>Galway</td>\n",
       "      <td>243</td>\n",
       "    </tr>\n",
       "    <tr>\n",
       "      <th>3</th>\n",
       "      <td>Dublin</td>\n",
       "      <td>234</td>\n",
       "    </tr>\n",
       "    <tr>\n",
       "      <th>4</th>\n",
       "      <td>Donegal</td>\n",
       "      <td>176</td>\n",
       "    </tr>\n",
       "  </tbody>\n",
       "</table>\n",
       "</div>"
      ],
      "text/plain": [
       "  AddressRegion  Count\n",
       "0         Kerry    308\n",
       "1          Cork    252\n",
       "2        Galway    243\n",
       "3        Dublin    234\n",
       "4       Donegal    176"
      ]
     },
     "execution_count": 47,
     "metadata": {},
     "output_type": "execute_result"
    }
   ],
   "source": [
    "# Get sum counts of individual activities for each County\n",
    "county_counts2 = df6['AddressRegion'].value_counts()\n",
    "\n",
    "# Create new df with the sum of accomodation per County\n",
    "df6 = pd.DataFrame({'AddressRegion': county_counts2.index, 'Count': county_counts2.values})\n",
    "\n",
    "# Calculate the sum of all counts\n",
    "total_count = df6['Count'].sum()\n",
    "\n",
    "# Create a new DataFrame for 'Ireland' with the total count\n",
    "ireland_row = pd.DataFrame({'AddressRegion': ['Ireland'], 'Count': [total_count]})\n",
    "\n",
    "# Concatenate df5 and ireland_row\n",
    "df6 = pd.concat([df6, ireland_row], ignore_index=True)\n",
    "\n",
    "df6.head()"
   ]
  },
  {
   "cell_type": "code",
   "execution_count": 48,
   "id": "284299c2",
   "metadata": {},
   "outputs": [
    {
     "data": {
      "text/html": [
       "<div>\n",
       "<style scoped>\n",
       "    .dataframe tbody tr th:only-of-type {\n",
       "        vertical-align: middle;\n",
       "    }\n",
       "\n",
       "    .dataframe tbody tr th {\n",
       "        vertical-align: top;\n",
       "    }\n",
       "\n",
       "    .dataframe thead th {\n",
       "        text-align: right;\n",
       "    }\n",
       "</style>\n",
       "<table border=\"1\" class=\"dataframe\">\n",
       "  <thead>\n",
       "    <tr style=\"text-align: right;\">\n",
       "      <th></th>\n",
       "      <th>County</th>\n",
       "      <th>Total Accommodation</th>\n",
       "    </tr>\n",
       "  </thead>\n",
       "  <tbody>\n",
       "    <tr>\n",
       "      <th>0</th>\n",
       "      <td>Kerry</td>\n",
       "      <td>308</td>\n",
       "    </tr>\n",
       "    <tr>\n",
       "      <th>1</th>\n",
       "      <td>Cork</td>\n",
       "      <td>252</td>\n",
       "    </tr>\n",
       "    <tr>\n",
       "      <th>2</th>\n",
       "      <td>Galway</td>\n",
       "      <td>243</td>\n",
       "    </tr>\n",
       "    <tr>\n",
       "      <th>3</th>\n",
       "      <td>Dublin</td>\n",
       "      <td>234</td>\n",
       "    </tr>\n",
       "    <tr>\n",
       "      <th>4</th>\n",
       "      <td>Donegal</td>\n",
       "      <td>176</td>\n",
       "    </tr>\n",
       "  </tbody>\n",
       "</table>\n",
       "</div>"
      ],
      "text/plain": [
       "    County  Total Accommodation\n",
       "0    Kerry                  308\n",
       "1     Cork                  252\n",
       "2   Galway                  243\n",
       "3   Dublin                  234\n",
       "4  Donegal                  176"
      ]
     },
     "execution_count": 48,
     "metadata": {},
     "output_type": "execute_result"
    }
   ],
   "source": [
    "#Rename columns to better explain data\n",
    "df6.rename(columns={'AddressRegion': 'County', 'Count': 'Total Accommodation'}, inplace=True)\n",
    "\n",
    "df6.head()"
   ]
  },
  {
   "cell_type": "code",
   "execution_count": 49,
   "id": "5b95c40a",
   "metadata": {},
   "outputs": [],
   "source": [
    "# Merge df and df6 on another common column\n",
    "\n",
    "df = pd.merge(df, df6, on='County', how='inner')"
   ]
  },
  {
   "cell_type": "code",
   "execution_count": 50,
   "id": "66db7cc1",
   "metadata": {},
   "outputs": [
    {
     "data": {
      "text/html": [
       "<div>\n",
       "<style scoped>\n",
       "    .dataframe tbody tr th:only-of-type {\n",
       "        vertical-align: middle;\n",
       "    }\n",
       "\n",
       "    .dataframe tbody tr th {\n",
       "        vertical-align: top;\n",
       "    }\n",
       "\n",
       "    .dataframe thead th {\n",
       "        text-align: right;\n",
       "    }\n",
       "</style>\n",
       "<table border=\"1\" class=\"dataframe\">\n",
       "  <thead>\n",
       "    <tr style=\"text-align: right;\">\n",
       "      <th></th>\n",
       "      <th>County</th>\n",
       "      <th>Household Income (million EUR)</th>\n",
       "      <th>Persons at Work (%)</th>\n",
       "      <th>Disposable Income (pp)</th>\n",
       "      <th>Total Activities</th>\n",
       "      <th>Total Accommodation</th>\n",
       "    </tr>\n",
       "  </thead>\n",
       "  <tbody>\n",
       "    <tr>\n",
       "      <th>0</th>\n",
       "      <td>Ireland</td>\n",
       "      <td>180057.81</td>\n",
       "      <td>100.00</td>\n",
       "      <td>24376.10</td>\n",
       "      <td>6107</td>\n",
       "      <td>2337</td>\n",
       "    </tr>\n",
       "    <tr>\n",
       "      <th>1</th>\n",
       "      <td>Carlow</td>\n",
       "      <td>2032.30</td>\n",
       "      <td>0.88</td>\n",
       "      <td>24606.46</td>\n",
       "      <td>76</td>\n",
       "      <td>21</td>\n",
       "    </tr>\n",
       "    <tr>\n",
       "      <th>2</th>\n",
       "      <td>Cavan</td>\n",
       "      <td>2333.79</td>\n",
       "      <td>1.53</td>\n",
       "      <td>21096.88</td>\n",
       "      <td>55</td>\n",
       "      <td>41</td>\n",
       "    </tr>\n",
       "    <tr>\n",
       "      <th>3</th>\n",
       "      <td>Clare</td>\n",
       "      <td>3892.75</td>\n",
       "      <td>1.12</td>\n",
       "      <td>21834.88</td>\n",
       "      <td>324</td>\n",
       "      <td>156</td>\n",
       "    </tr>\n",
       "    <tr>\n",
       "      <th>4</th>\n",
       "      <td>Cork</td>\n",
       "      <td>20711.12</td>\n",
       "      <td>12.83</td>\n",
       "      <td>24599.56</td>\n",
       "      <td>653</td>\n",
       "      <td>252</td>\n",
       "    </tr>\n",
       "  </tbody>\n",
       "</table>\n",
       "</div>"
      ],
      "text/plain": [
       "    County  Household Income (million EUR)  Persons at Work (%)  \\\n",
       "0  Ireland                       180057.81               100.00   \n",
       "1   Carlow                         2032.30                 0.88   \n",
       "2    Cavan                         2333.79                 1.53   \n",
       "3    Clare                         3892.75                 1.12   \n",
       "4     Cork                        20711.12                12.83   \n",
       "\n",
       "   Disposable Income (pp)  Total Activities  Total Accommodation  \n",
       "0                24376.10              6107                 2337  \n",
       "1                24606.46                76                   21  \n",
       "2                21096.88                55                   41  \n",
       "3                21834.88               324                  156  \n",
       "4                24599.56               653                  252  "
      ]
     },
     "execution_count": 50,
     "metadata": {},
     "output_type": "execute_result"
    }
   ],
   "source": [
    "df.head(5)"
   ]
  },
  {
   "cell_type": "code",
   "execution_count": 51,
   "id": "85c155e4",
   "metadata": {},
   "outputs": [
    {
     "data": {
      "text/plain": [
       "(27, 6)"
      ]
     },
     "execution_count": 51,
     "metadata": {},
     "output_type": "execute_result"
    }
   ],
   "source": [
    "df.shape"
   ]
  },
  {
   "cell_type": "code",
   "execution_count": 52,
   "id": "ec2bb298",
   "metadata": {},
   "outputs": [],
   "source": [
    "# Import Attractions Dataframe\n",
    "\n",
    "df7 = pd.read_csv(\"Attractions2021.csv\")"
   ]
  },
  {
   "cell_type": "code",
   "execution_count": 53,
   "id": "eec991ce",
   "metadata": {},
   "outputs": [
    {
     "data": {
      "text/html": [
       "<div>\n",
       "<style scoped>\n",
       "    .dataframe tbody tr th:only-of-type {\n",
       "        vertical-align: middle;\n",
       "    }\n",
       "\n",
       "    .dataframe tbody tr th {\n",
       "        vertical-align: top;\n",
       "    }\n",
       "\n",
       "    .dataframe thead th {\n",
       "        text-align: right;\n",
       "    }\n",
       "</style>\n",
       "<table border=\"1\" class=\"dataframe\">\n",
       "  <thead>\n",
       "    <tr style=\"text-align: right;\">\n",
       "      <th></th>\n",
       "      <th>Name</th>\n",
       "      <th>Url</th>\n",
       "      <th>Telephone</th>\n",
       "      <th>Longitude</th>\n",
       "      <th>Latitude</th>\n",
       "      <th>AddressRegion</th>\n",
       "      <th>AddressLocality</th>\n",
       "      <th>AddressCountry</th>\n",
       "      <th>Tags</th>\n",
       "    </tr>\n",
       "  </thead>\n",
       "  <tbody>\n",
       "    <tr>\n",
       "      <th>0</th>\n",
       "      <td>Dun na Rí Forest Park</td>\n",
       "      <td>http://www.coillte.ie/site/dun-a-ri-forest-park/</td>\n",
       "      <td>353494331942</td>\n",
       "      <td>-6.792661</td>\n",
       "      <td>53.918978</td>\n",
       "      <td>Cavan</td>\n",
       "      <td>Kingscourt</td>\n",
       "      <td>Ireland</td>\n",
       "      <td>Walking,Forest Park,Park and Forest Walk,Natio...</td>\n",
       "    </tr>\n",
       "    <tr>\n",
       "      <th>1</th>\n",
       "      <td>Newcastle Woods</td>\n",
       "      <td>https://www.longford.ie/en/visit/trails/newcas...</td>\n",
       "      <td>353433343509</td>\n",
       "      <td>-7.726107</td>\n",
       "      <td>53.562124</td>\n",
       "      <td>Longford</td>\n",
       "      <td>NaN</td>\n",
       "      <td>Ireland</td>\n",
       "      <td>Walking,Natural Landscape</td>\n",
       "    </tr>\n",
       "    <tr>\n",
       "      <th>2</th>\n",
       "      <td>Rinn Duin Castle Loop</td>\n",
       "      <td>https://www.sportireland.ie/outdoors/walking/t...</td>\n",
       "      <td>+353(0)906630252</td>\n",
       "      <td>-8.004326</td>\n",
       "      <td>53.544197</td>\n",
       "      <td>Roscommon</td>\n",
       "      <td>NaN</td>\n",
       "      <td>Republic of Ireland</td>\n",
       "      <td>Walking,Castle,Historic Houses and Castle,Ruins</td>\n",
       "    </tr>\n",
       "    <tr>\n",
       "      <th>3</th>\n",
       "      <td>Knock Museum</td>\n",
       "      <td>https://www.knockshrine.ie/key-places-to-visit...</td>\n",
       "      <td>353949388100</td>\n",
       "      <td>-8.917153</td>\n",
       "      <td>53.790004</td>\n",
       "      <td>Mayo</td>\n",
       "      <td>Knock</td>\n",
       "      <td>Ireland</td>\n",
       "      <td>Church Abbey,Monastery,Churches,Abbeys and Mon...</td>\n",
       "    </tr>\n",
       "    <tr>\n",
       "      <th>4</th>\n",
       "      <td>Michael J Quill Centre</td>\n",
       "      <td>http://www.historic-ireland.com/places/778.html</td>\n",
       "      <td>353646685511</td>\n",
       "      <td>-9.461430</td>\n",
       "      <td>51.902656</td>\n",
       "      <td>Kerry</td>\n",
       "      <td>Kilgarvan</td>\n",
       "      <td>Republic of Ireland</td>\n",
       "      <td>Museums and Attraction</td>\n",
       "    </tr>\n",
       "  </tbody>\n",
       "</table>\n",
       "</div>"
      ],
      "text/plain": [
       "                     Name                                                Url  \\\n",
       "0   Dun na Rí Forest Park   http://www.coillte.ie/site/dun-a-ri-forest-park/   \n",
       "1         Newcastle Woods  https://www.longford.ie/en/visit/trails/newcas...   \n",
       "2   Rinn Duin Castle Loop  https://www.sportireland.ie/outdoors/walking/t...   \n",
       "3            Knock Museum  https://www.knockshrine.ie/key-places-to-visit...   \n",
       "4  Michael J Quill Centre    http://www.historic-ireland.com/places/778.html   \n",
       "\n",
       "          Telephone  Longitude   Latitude AddressRegion AddressLocality  \\\n",
       "0      353494331942  -6.792661  53.918978         Cavan      Kingscourt   \n",
       "1      353433343509  -7.726107  53.562124      Longford             NaN   \n",
       "2  +353(0)906630252  -8.004326  53.544197     Roscommon             NaN   \n",
       "3      353949388100  -8.917153  53.790004          Mayo           Knock   \n",
       "4      353646685511  -9.461430  51.902656         Kerry       Kilgarvan   \n",
       "\n",
       "        AddressCountry                                               Tags  \n",
       "0              Ireland  Walking,Forest Park,Park and Forest Walk,Natio...  \n",
       "1              Ireland                          Walking,Natural Landscape  \n",
       "2  Republic of Ireland    Walking,Castle,Historic Houses and Castle,Ruins  \n",
       "3              Ireland  Church Abbey,Monastery,Churches,Abbeys and Mon...  \n",
       "4  Republic of Ireland                             Museums and Attraction  "
      ]
     },
     "execution_count": 53,
     "metadata": {},
     "output_type": "execute_result"
    }
   ],
   "source": [
    "df7.head()"
   ]
  },
  {
   "cell_type": "code",
   "execution_count": 54,
   "id": "0e699152",
   "metadata": {},
   "outputs": [
    {
     "name": "stdout",
     "output_type": "stream",
     "text": [
      "<class 'pandas.core.frame.DataFrame'>\n",
      "RangeIndex: 183 entries, 0 to 182\n",
      "Data columns (total 9 columns):\n",
      " #   Column           Non-Null Count  Dtype  \n",
      "---  ------           --------------  -----  \n",
      " 0   Name             183 non-null    object \n",
      " 1   Url              139 non-null    object \n",
      " 2   Telephone        130 non-null    object \n",
      " 3   Longitude        183 non-null    float64\n",
      " 4   Latitude         183 non-null    float64\n",
      " 5   AddressRegion    183 non-null    object \n",
      " 6   AddressLocality  120 non-null    object \n",
      " 7   AddressCountry   183 non-null    object \n",
      " 8   Tags             183 non-null    object \n",
      "dtypes: float64(2), object(7)\n",
      "memory usage: 13.0+ KB\n"
     ]
    }
   ],
   "source": [
    "df7.info()"
   ]
  },
  {
   "cell_type": "code",
   "execution_count": 56,
   "id": "efc27b2c",
   "metadata": {},
   "outputs": [
    {
     "data": {
      "text/html": [
       "<div>\n",
       "<style scoped>\n",
       "    .dataframe tbody tr th:only-of-type {\n",
       "        vertical-align: middle;\n",
       "    }\n",
       "\n",
       "    .dataframe tbody tr th {\n",
       "        vertical-align: top;\n",
       "    }\n",
       "\n",
       "    .dataframe thead th {\n",
       "        text-align: right;\n",
       "    }\n",
       "</style>\n",
       "<table border=\"1\" class=\"dataframe\">\n",
       "  <thead>\n",
       "    <tr style=\"text-align: right;\">\n",
       "      <th></th>\n",
       "      <th>AddressRegion</th>\n",
       "      <th>Count</th>\n",
       "    </tr>\n",
       "  </thead>\n",
       "  <tbody>\n",
       "    <tr>\n",
       "      <th>0</th>\n",
       "      <td>Kerry</td>\n",
       "      <td>33</td>\n",
       "    </tr>\n",
       "    <tr>\n",
       "      <th>1</th>\n",
       "      <td>Cork</td>\n",
       "      <td>26</td>\n",
       "    </tr>\n",
       "    <tr>\n",
       "      <th>2</th>\n",
       "      <td>Galway</td>\n",
       "      <td>14</td>\n",
       "    </tr>\n",
       "    <tr>\n",
       "      <th>3</th>\n",
       "      <td>Mayo</td>\n",
       "      <td>14</td>\n",
       "    </tr>\n",
       "    <tr>\n",
       "      <th>4</th>\n",
       "      <td>Wexford</td>\n",
       "      <td>10</td>\n",
       "    </tr>\n",
       "  </tbody>\n",
       "</table>\n",
       "</div>"
      ],
      "text/plain": [
       "  AddressRegion  Count\n",
       "0         Kerry     33\n",
       "1          Cork     26\n",
       "2        Galway     14\n",
       "3          Mayo     14\n",
       "4       Wexford     10"
      ]
     },
     "execution_count": 56,
     "metadata": {},
     "output_type": "execute_result"
    }
   ],
   "source": [
    "# Get sum counts of individual attractions for each County\n",
    "county_counts3 = df7['AddressRegion'].value_counts()\n",
    "\n",
    "# Create new df with the sum of accomodation per County\n",
    "df7 = pd.DataFrame({'AddressRegion': county_counts3.index, 'Count': county_counts3.values})\n",
    "\n",
    "# Calculate the sum of all counts\n",
    "total_count = df7['Count'].sum()\n",
    "\n",
    "# Create a new DataFrame for 'Ireland' with the total count\n",
    "ireland_row = pd.DataFrame({'AddressRegion': ['Ireland'], 'Count': [total_count]})\n",
    "\n",
    "# Concatenate df5 and ireland_row\n",
    "df7 = pd.concat([df7, ireland_row], ignore_index=True)\n",
    "\n",
    "df7.head()"
   ]
  },
  {
   "cell_type": "code",
   "execution_count": 57,
   "id": "4d60d79b",
   "metadata": {},
   "outputs": [
    {
     "data": {
      "text/html": [
       "<div>\n",
       "<style scoped>\n",
       "    .dataframe tbody tr th:only-of-type {\n",
       "        vertical-align: middle;\n",
       "    }\n",
       "\n",
       "    .dataframe tbody tr th {\n",
       "        vertical-align: top;\n",
       "    }\n",
       "\n",
       "    .dataframe thead th {\n",
       "        text-align: right;\n",
       "    }\n",
       "</style>\n",
       "<table border=\"1\" class=\"dataframe\">\n",
       "  <thead>\n",
       "    <tr style=\"text-align: right;\">\n",
       "      <th></th>\n",
       "      <th>County</th>\n",
       "      <th>Total Attractions</th>\n",
       "    </tr>\n",
       "  </thead>\n",
       "  <tbody>\n",
       "    <tr>\n",
       "      <th>0</th>\n",
       "      <td>Kerry</td>\n",
       "      <td>33</td>\n",
       "    </tr>\n",
       "    <tr>\n",
       "      <th>1</th>\n",
       "      <td>Cork</td>\n",
       "      <td>26</td>\n",
       "    </tr>\n",
       "    <tr>\n",
       "      <th>2</th>\n",
       "      <td>Galway</td>\n",
       "      <td>14</td>\n",
       "    </tr>\n",
       "    <tr>\n",
       "      <th>3</th>\n",
       "      <td>Mayo</td>\n",
       "      <td>14</td>\n",
       "    </tr>\n",
       "    <tr>\n",
       "      <th>4</th>\n",
       "      <td>Wexford</td>\n",
       "      <td>10</td>\n",
       "    </tr>\n",
       "  </tbody>\n",
       "</table>\n",
       "</div>"
      ],
      "text/plain": [
       "    County  Total Attractions\n",
       "0    Kerry                 33\n",
       "1     Cork                 26\n",
       "2   Galway                 14\n",
       "3     Mayo                 14\n",
       "4  Wexford                 10"
      ]
     },
     "execution_count": 57,
     "metadata": {},
     "output_type": "execute_result"
    }
   ],
   "source": [
    "#Rename columns to better explain data\n",
    "df7.rename(columns={'AddressRegion': 'County', 'Count': 'Total Attractions'}, inplace=True)\n",
    "\n",
    "df7.head()"
   ]
  },
  {
   "cell_type": "code",
   "execution_count": 62,
   "id": "46316359",
   "metadata": {},
   "outputs": [
    {
     "data": {
      "text/plain": [
       "(25, 2)"
      ]
     },
     "execution_count": 62,
     "metadata": {},
     "output_type": "execute_result"
    }
   ],
   "source": [
    "df7.shape"
   ]
  },
  {
   "cell_type": "code",
   "execution_count": 75,
   "id": "9a210aa7",
   "metadata": {},
   "outputs": [
    {
     "data": {
      "text/plain": [
       "(27, 6)"
      ]
     },
     "execution_count": 75,
     "metadata": {},
     "output_type": "execute_result"
    }
   ],
   "source": [
    "df.shape"
   ]
  },
  {
   "cell_type": "code",
   "execution_count": 64,
   "id": "a92d1f36",
   "metadata": {},
   "outputs": [
    {
     "name": "stdout",
     "output_type": "stream",
     "text": [
      "Unique values in df['County']:  ['Ireland' 'Carlow' 'Cavan' 'Clare' 'Cork' 'Donegal' 'Dublin' 'Galway'\n",
      " 'Kerry' 'Kildare' 'Kilkenny' 'Laois' 'Leitrim' 'Limerick' 'Longford'\n",
      " 'Louth' 'Mayo' 'Meath' 'Monaghan' 'Offaly' 'Roscommon' 'Sligo'\n",
      " 'Tipperary' 'Waterford' 'Westmeath' 'Wexford' 'Wicklow']\n",
      "Unique values in df7['County']:  ['Dublin' 'Cork' 'Kerry' 'Galway' 'Donegal' 'Mayo' 'Clare' 'Waterford'\n",
      " 'Wicklow' 'Wexford' 'Sligo' 'Limerick' 'Kilkenny' 'Tipperary' 'Kildare'\n",
      " 'Meath' 'Louth' 'Westmeath' 'Carlow' 'Offaly' 'Roscommon' 'Laois' 'Cavan'\n",
      " 'Leitrim' 'Monaghan' 'Longford' 'Ireland']\n"
     ]
    }
   ],
   "source": [
    "# We can see from the above that we are missing two 'County' entries so we must identify these before manually imputing these \n",
    "# missing values\n",
    "\n",
    "print(\"Unique values in df['County']: \", df['County'].unique())\n",
    "print(\"Unique values in df7['County']: \", df5['County'].unique())"
   ]
  },
  {
   "cell_type": "code",
   "execution_count": 80,
   "id": "8acd1325",
   "metadata": {},
   "outputs": [
    {
     "name": "stdout",
     "output_type": "stream",
     "text": [
      "Missing counties in df7 that are in df:\n"
     ]
    }
   ],
   "source": [
    "# Find missing values in df7 compared to df\n",
    "\n",
    "missing_counties = set(df['County']) - set(df7['County'])\n",
    "\n",
    "print(\"Missing counties in df7 that are in df:\")\n",
    "for county in missing_counties:\n",
    "    print(county)"
   ]
  },
  {
   "cell_type": "code",
   "execution_count": 78,
   "id": "19be4ef1",
   "metadata": {},
   "outputs": [
    {
     "name": "stdout",
     "output_type": "stream",
     "text": [
      "Updated df7 with new entries:\n",
      "       County  Total Attractions\n",
      "0       Kerry                 33\n",
      "1        Cork                 26\n",
      "2      Galway                 14\n",
      "3        Mayo                 14\n",
      "4     Wexford                 10\n",
      "5       Sligo                  8\n",
      "6   Waterford                  8\n",
      "7       Louth                  7\n",
      "8    Limerick                  7\n",
      "9     Donegal                  7\n",
      "10  Tipperary                  7\n",
      "11   Kilkenny                  5\n",
      "12      Meath                  5\n",
      "13      Clare                  5\n",
      "14      Laois                  4\n",
      "15     Carlow                  4\n",
      "16    Kildare                  4\n",
      "17   Longford                  3\n",
      "18    Leitrim                  3\n",
      "19      Cavan                  3\n",
      "20    Wicklow                  2\n",
      "21  Roscommon                  2\n",
      "22     Dublin                  1\n",
      "23  Westmeath                  1\n",
      "24    Ireland                183\n",
      "25     Offaly                  0\n",
      "26   Monaghan                  0\n"
     ]
    }
   ],
   "source": [
    "# Create temporary df with the missing entries\n",
    "new_entries = pd.DataFrame({'County': ['Offaly', 'Monaghan'], 'Total Attractions': [0, 0]})\n",
    "\n",
    "# Concatenate df7 and temp df\n",
    "df7 = pd.concat([df7, new_entries], ignore_index=True)\n",
    "\n",
    "print(df7)"
   ]
  },
  {
   "cell_type": "code",
   "execution_count": 81,
   "id": "4bdb5742",
   "metadata": {},
   "outputs": [
    {
     "data": {
      "text/plain": [
       "(27, 2)"
      ]
     },
     "execution_count": 81,
     "metadata": {},
     "output_type": "execute_result"
    }
   ],
   "source": [
    "df7.shape"
   ]
  },
  {
   "cell_type": "code",
   "execution_count": 82,
   "id": "37b8b8e8",
   "metadata": {},
   "outputs": [],
   "source": [
    "# Merge df and df6 on another common column\n",
    "\n",
    "df = pd.merge(df, df7, on='County', how='inner')"
   ]
  },
  {
   "cell_type": "code",
   "execution_count": 84,
   "id": "94611232",
   "metadata": {},
   "outputs": [
    {
     "data": {
      "text/plain": [
       "(27, 7)"
      ]
     },
     "execution_count": 84,
     "metadata": {},
     "output_type": "execute_result"
    }
   ],
   "source": [
    "df.shape"
   ]
  },
  {
   "cell_type": "markdown",
   "id": "1aac6a58",
   "metadata": {},
   "source": [
    "### Exploratory Data Analysis"
   ]
  },
  {
   "cell_type": "code",
   "execution_count": 85,
   "id": "8474bdcd",
   "metadata": {},
   "outputs": [
    {
     "data": {
      "text/html": [
       "<div>\n",
       "<style scoped>\n",
       "    .dataframe tbody tr th:only-of-type {\n",
       "        vertical-align: middle;\n",
       "    }\n",
       "\n",
       "    .dataframe tbody tr th {\n",
       "        vertical-align: top;\n",
       "    }\n",
       "\n",
       "    .dataframe thead th {\n",
       "        text-align: right;\n",
       "    }\n",
       "</style>\n",
       "<table border=\"1\" class=\"dataframe\">\n",
       "  <thead>\n",
       "    <tr style=\"text-align: right;\">\n",
       "      <th></th>\n",
       "      <th>County</th>\n",
       "      <th>Household Income (million EUR)</th>\n",
       "      <th>Persons at Work (%)</th>\n",
       "      <th>Disposable Income (pp)</th>\n",
       "      <th>Total Activities</th>\n",
       "      <th>Total Accommodation</th>\n",
       "      <th>Total Attractions</th>\n",
       "    </tr>\n",
       "  </thead>\n",
       "  <tbody>\n",
       "    <tr>\n",
       "      <th>0</th>\n",
       "      <td>Ireland</td>\n",
       "      <td>180057.81</td>\n",
       "      <td>100.00</td>\n",
       "      <td>24376.10</td>\n",
       "      <td>6107</td>\n",
       "      <td>2337</td>\n",
       "      <td>183</td>\n",
       "    </tr>\n",
       "    <tr>\n",
       "      <th>1</th>\n",
       "      <td>Carlow</td>\n",
       "      <td>2032.30</td>\n",
       "      <td>0.88</td>\n",
       "      <td>24606.46</td>\n",
       "      <td>76</td>\n",
       "      <td>21</td>\n",
       "      <td>4</td>\n",
       "    </tr>\n",
       "    <tr>\n",
       "      <th>2</th>\n",
       "      <td>Cavan</td>\n",
       "      <td>2333.79</td>\n",
       "      <td>1.53</td>\n",
       "      <td>21096.88</td>\n",
       "      <td>55</td>\n",
       "      <td>41</td>\n",
       "      <td>3</td>\n",
       "    </tr>\n",
       "    <tr>\n",
       "      <th>3</th>\n",
       "      <td>Clare</td>\n",
       "      <td>3892.75</td>\n",
       "      <td>1.12</td>\n",
       "      <td>21834.88</td>\n",
       "      <td>324</td>\n",
       "      <td>156</td>\n",
       "      <td>5</td>\n",
       "    </tr>\n",
       "    <tr>\n",
       "      <th>4</th>\n",
       "      <td>Cork</td>\n",
       "      <td>20711.12</td>\n",
       "      <td>12.83</td>\n",
       "      <td>24599.56</td>\n",
       "      <td>653</td>\n",
       "      <td>252</td>\n",
       "      <td>26</td>\n",
       "    </tr>\n",
       "  </tbody>\n",
       "</table>\n",
       "</div>"
      ],
      "text/plain": [
       "    County  Household Income (million EUR)  Persons at Work (%)  \\\n",
       "0  Ireland                       180057.81               100.00   \n",
       "1   Carlow                         2032.30                 0.88   \n",
       "2    Cavan                         2333.79                 1.53   \n",
       "3    Clare                         3892.75                 1.12   \n",
       "4     Cork                        20711.12                12.83   \n",
       "\n",
       "   Disposable Income (pp)  Total Activities  Total Accommodation  \\\n",
       "0                24376.10              6107                 2337   \n",
       "1                24606.46                76                   21   \n",
       "2                21096.88                55                   41   \n",
       "3                21834.88               324                  156   \n",
       "4                24599.56               653                  252   \n",
       "\n",
       "   Total Attractions  \n",
       "0                183  \n",
       "1                  4  \n",
       "2                  3  \n",
       "3                  5  \n",
       "4                 26  "
      ]
     },
     "execution_count": 85,
     "metadata": {},
     "output_type": "execute_result"
    }
   ],
   "source": [
    "df.head()\n"
   ]
  },
  {
   "cell_type": "code",
   "execution_count": 87,
   "id": "5333d8e1",
   "metadata": {},
   "outputs": [
    {
     "name": "stdout",
     "output_type": "stream",
     "text": [
      "<class 'pandas.core.frame.DataFrame'>\n",
      "RangeIndex: 27 entries, 0 to 26\n",
      "Data columns (total 7 columns):\n",
      " #   Column                          Non-Null Count  Dtype  \n",
      "---  ------                          --------------  -----  \n",
      " 0   County                          27 non-null     object \n",
      " 1   Household Income (million EUR)  27 non-null     float64\n",
      " 2   Persons at Work (%)             27 non-null     float64\n",
      " 3   Disposable Income (pp)          27 non-null     float64\n",
      " 4   Total Activities                27 non-null     int64  \n",
      " 5   Total Accommodation             27 non-null     int64  \n",
      " 6   Total Attractions               27 non-null     int64  \n",
      "dtypes: float64(3), int64(3), object(1)\n",
      "memory usage: 1.6+ KB\n"
     ]
    }
   ],
   "source": [
    "df.info()\n",
    "\n"
   ]
  },
  {
   "cell_type": "code",
   "execution_count": 88,
   "id": "7b7c5cf8",
   "metadata": {},
   "outputs": [
    {
     "data": {
      "text/html": [
       "<div>\n",
       "<style scoped>\n",
       "    .dataframe tbody tr th:only-of-type {\n",
       "        vertical-align: middle;\n",
       "    }\n",
       "\n",
       "    .dataframe tbody tr th {\n",
       "        vertical-align: top;\n",
       "    }\n",
       "\n",
       "    .dataframe thead th {\n",
       "        text-align: right;\n",
       "    }\n",
       "</style>\n",
       "<table border=\"1\" class=\"dataframe\">\n",
       "  <thead>\n",
       "    <tr style=\"text-align: right;\">\n",
       "      <th></th>\n",
       "      <th>Household Income (million EUR)</th>\n",
       "      <th>Persons at Work (%)</th>\n",
       "      <th>Disposable Income (pp)</th>\n",
       "      <th>Total Activities</th>\n",
       "      <th>Total Accommodation</th>\n",
       "      <th>Total Attractions</th>\n",
       "    </tr>\n",
       "  </thead>\n",
       "  <tbody>\n",
       "    <tr>\n",
       "      <th>count</th>\n",
       "      <td>27.000000</td>\n",
       "      <td>27.000000</td>\n",
       "      <td>27.000000</td>\n",
       "      <td>27.00000</td>\n",
       "      <td>27.000000</td>\n",
       "      <td>27.000000</td>\n",
       "    </tr>\n",
       "    <tr>\n",
       "      <th>mean</th>\n",
       "      <td>13337.615185</td>\n",
       "      <td>7.407407</td>\n",
       "      <td>22690.948148</td>\n",
       "      <td>452.37037</td>\n",
       "      <td>173.111111</td>\n",
       "      <td>13.555556</td>\n",
       "    </tr>\n",
       "    <tr>\n",
       "      <th>std</th>\n",
       "      <td>35298.214552</td>\n",
       "      <td>19.420785</td>\n",
       "      <td>2017.139860</td>\n",
       "      <td>1155.88162</td>\n",
       "      <td>440.463771</td>\n",
       "      <td>34.679115</td>\n",
       "    </tr>\n",
       "    <tr>\n",
       "      <th>min</th>\n",
       "      <td>980.930000</td>\n",
       "      <td>0.550000</td>\n",
       "      <td>19252.820000</td>\n",
       "      <td>27.00000</td>\n",
       "      <td>8.000000</td>\n",
       "      <td>0.000000</td>\n",
       "    </tr>\n",
       "    <tr>\n",
       "      <th>25%</th>\n",
       "      <td>2346.945000</td>\n",
       "      <td>1.380000</td>\n",
       "      <td>21187.975000</td>\n",
       "      <td>72.50000</td>\n",
       "      <td>34.500000</td>\n",
       "      <td>3.000000</td>\n",
       "    </tr>\n",
       "    <tr>\n",
       "      <th>50%</th>\n",
       "      <td>4134.700000</td>\n",
       "      <td>2.020000</td>\n",
       "      <td>22542.760000</td>\n",
       "      <td>181.00000</td>\n",
       "      <td>57.000000</td>\n",
       "      <td>5.000000</td>\n",
       "    </tr>\n",
       "    <tr>\n",
       "      <th>75%</th>\n",
       "      <td>6326.960000</td>\n",
       "      <td>3.740000</td>\n",
       "      <td>24225.585000</td>\n",
       "      <td>330.00000</td>\n",
       "      <td>149.500000</td>\n",
       "      <td>8.000000</td>\n",
       "    </tr>\n",
       "    <tr>\n",
       "      <th>max</th>\n",
       "      <td>180057.810000</td>\n",
       "      <td>100.000000</td>\n",
       "      <td>27958.060000</td>\n",
       "      <td>6107.00000</td>\n",
       "      <td>2337.000000</td>\n",
       "      <td>183.000000</td>\n",
       "    </tr>\n",
       "  </tbody>\n",
       "</table>\n",
       "</div>"
      ],
      "text/plain": [
       "       Household Income (million EUR)  Persons at Work (%)  \\\n",
       "count                       27.000000            27.000000   \n",
       "mean                     13337.615185             7.407407   \n",
       "std                      35298.214552            19.420785   \n",
       "min                        980.930000             0.550000   \n",
       "25%                       2346.945000             1.380000   \n",
       "50%                       4134.700000             2.020000   \n",
       "75%                       6326.960000             3.740000   \n",
       "max                     180057.810000           100.000000   \n",
       "\n",
       "       Disposable Income (pp)  Total Activities  Total Accommodation  \\\n",
       "count               27.000000          27.00000            27.000000   \n",
       "mean             22690.948148         452.37037           173.111111   \n",
       "std               2017.139860        1155.88162           440.463771   \n",
       "min              19252.820000          27.00000             8.000000   \n",
       "25%              21187.975000          72.50000            34.500000   \n",
       "50%              22542.760000         181.00000            57.000000   \n",
       "75%              24225.585000         330.00000           149.500000   \n",
       "max              27958.060000        6107.00000          2337.000000   \n",
       "\n",
       "       Total Attractions  \n",
       "count          27.000000  \n",
       "mean           13.555556  \n",
       "std            34.679115  \n",
       "min             0.000000  \n",
       "25%             3.000000  \n",
       "50%             5.000000  \n",
       "75%             8.000000  \n",
       "max           183.000000  "
      ]
     },
     "execution_count": 88,
     "metadata": {},
     "output_type": "execute_result"
    }
   ],
   "source": [
    "df.describe()"
   ]
  },
  {
   "cell_type": "code",
   "execution_count": 89,
   "id": "a1de2992",
   "metadata": {},
   "outputs": [
    {
     "data": {
      "text/html": [
       "<div>\n",
       "<style scoped>\n",
       "    .dataframe tbody tr th:only-of-type {\n",
       "        vertical-align: middle;\n",
       "    }\n",
       "\n",
       "    .dataframe tbody tr th {\n",
       "        vertical-align: top;\n",
       "    }\n",
       "\n",
       "    .dataframe thead th {\n",
       "        text-align: right;\n",
       "    }\n",
       "</style>\n",
       "<table border=\"1\" class=\"dataframe\">\n",
       "  <thead>\n",
       "    <tr style=\"text-align: right;\">\n",
       "      <th></th>\n",
       "      <th>County</th>\n",
       "    </tr>\n",
       "  </thead>\n",
       "  <tbody>\n",
       "    <tr>\n",
       "      <th>count</th>\n",
       "      <td>27</td>\n",
       "    </tr>\n",
       "    <tr>\n",
       "      <th>unique</th>\n",
       "      <td>27</td>\n",
       "    </tr>\n",
       "    <tr>\n",
       "      <th>top</th>\n",
       "      <td>Ireland</td>\n",
       "    </tr>\n",
       "    <tr>\n",
       "      <th>freq</th>\n",
       "      <td>1</td>\n",
       "    </tr>\n",
       "  </tbody>\n",
       "</table>\n",
       "</div>"
      ],
      "text/plain": [
       "         County\n",
       "count        27\n",
       "unique       27\n",
       "top     Ireland\n",
       "freq          1"
      ]
     },
     "execution_count": 89,
     "metadata": {},
     "output_type": "execute_result"
    }
   ],
   "source": [
    "df.describe(include=\"object\")"
   ]
  },
  {
   "cell_type": "code",
   "execution_count": 94,
   "id": "7571b6b4",
   "metadata": {},
   "outputs": [],
   "source": [
    "# Save current df (including Ireland col) into a new df \n",
    "\n",
    "df_all = df.copy()"
   ]
  },
  {
   "cell_type": "code",
   "execution_count": 95,
   "id": "a428e715",
   "metadata": {},
   "outputs": [],
   "source": [
    "# Drop Ireland 'Total' column from our durrent df\n",
    "\n",
    "df = df[df['County'] != 'Ireland']"
   ]
  },
  {
   "cell_type": "code",
   "execution_count": 99,
   "id": "0bad3fdc",
   "metadata": {},
   "outputs": [
    {
     "data": {
      "image/png": "[encoded data removed]",
      "text/plain": [
       "<Figure size 640x480 with 1 Axes>"
      ]
     },
     "metadata": {},
     "output_type": "display_data"
    }
   ],
   "source": [
    "# Plot a histogram to see the spread of Accomodation across Counties\n",
    "\n",
    "sns.histplot(data=df, x=\"Total Accommodation\");"
   ]
  },
  {
   "cell_type": "code",
   "execution_count": 100,
   "id": "8a87632c",
   "metadata": {},
   "outputs": [
    {
     "data": {
      "text/plain": [
       "<seaborn.axisgrid.PairGrid at 0x241fb429dd0>"
      ]
     },
     "execution_count": 100,
     "metadata": {},
     "output_type": "execute_result"
    },
    {
     "data": {
      "image/png": "[encoded data removed]",
      "text/plain": [
       "<Figure size 1500x1500 with 42 Axes>"
      ]
     },
     "metadata": {},
     "output_type": "display_data"
    }
   ],
   "source": [
    "# Visualize pairwise relationships between numerical variables\n",
    "\n",
    "\n",
    "sns.pairplot(df)"
   ]
  },
  {
   "cell_type": "code",
   "execution_count": null,
   "id": "55a12548",
   "metadata": {},
   "outputs": [],
   "source": []
  }
 ],
 "metadata": {
  "kernelspec": {
   "display_name": "Python 3 (ipykernel)",
   "language": "python",
   "name": "python3"
  },
  "language_info": {
   "codemirror_mode": {
    "name": "ipython",
    "version": 3
   },
   "file_extension": ".py",
   "mimetype": "text/x-python",
   "name": "python",
   "nbconvert_exporter": "python",
   "pygments_lexer": "ipython3",
   "version": "3.11.5"
  }
 },
 "nbformat": 4,
 "nbformat_minor": 5
}
